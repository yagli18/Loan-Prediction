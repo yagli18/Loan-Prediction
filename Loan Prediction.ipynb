{
 "cells": [
  {
   "cell_type": "markdown",
   "metadata": {
    "id": "DUmoXgYPPYdw"
   },
   "source": [
    "## Import Data"
   ]
  },
  {
   "cell_type": "code",
   "execution_count": 1,
   "metadata": {
    "colab": {
     "base_uri": "https://localhost:8080/"
    },
    "executionInfo": {
     "elapsed": 32291,
     "status": "ok",
     "timestamp": 1660229322436,
     "user": {
      "displayName": "Zahmet Yılmaz",
      "userId": "12121815919257021566"
     },
     "user_tz": -180
    },
    "id": "KVXoP6atPWrY",
    "outputId": "051b410e-ad68-4b86-f388-306736a90333"
   },
   "outputs": [
    {
     "name": "stdout",
     "output_type": "stream",
     "text": [
      "Mounted at /content/drive\n"
     ]
    }
   ],
   "source": [
    "from google.colab import drive\n",
    "drive.mount('/content/drive')"
   ]
  },
  {
   "cell_type": "code",
   "execution_count": 2,
   "metadata": {
    "executionInfo": {
     "elapsed": 655,
     "status": "ok",
     "timestamp": 1660229323081,
     "user": {
      "displayName": "Zahmet Yılmaz",
      "userId": "12121815919257021566"
     },
     "user_tz": -180
    },
    "id": "kiYX18CTQI0m"
   },
   "outputs": [],
   "source": [
    "import pandas as pd\n",
    "import numpy as np\n",
    "import matplotlib.pyplot as plt\n",
    "%matplotlib inline\n",
    "import seaborn as sns\n",
    "import warnings\n",
    "warnings.filterwarnings(\"ignore\")\n",
    "\n",
    "#Regression\n",
    "from sklearn.linear_model import LinearRegression, Ridge, Lasso, ElasticNet\n",
    "from sklearn.neighbors import KNeighborsRegressor\n",
    "from sklearn.ensemble import GradientBoostingRegressor\n",
    "from sklearn.tree import ExtraTreeRegressor, DecisionTreeRegressor\n",
    "from xgboost import XGBRegressor\n",
    "\n",
    "#Classification\n",
    "from sklearn.naive_bayes import MultinomialNB, GaussianNB, BernoulliNB\n",
    "from sklearn.neighbors import KNeighborsClassifier\n",
    "from sklearn.svm import SVC\n",
    "from sklearn.tree import DecisionTreeClassifier\n",
    "from sklearn.linear_model import LogisticRegression\n",
    "from sklearn.ensemble import GradientBoostingClassifier, AdaBoostClassifier, RandomForestClassifier\n",
    "from xgboost import XGBClassifier\n",
    "from sklearn.metrics import classification_report,accuracy_score,confusion_matrix,precision_score,recall_score,f1_score\n",
    "\n",
    "from sklearn.model_selection import train_test_split\n",
    "from sklearn.metrics import mean_squared_error,r2_score,mean_absolute_error\n",
    "from sklearn.preprocessing import normalize,scale"
   ]
  },
  {
   "cell_type": "markdown",
   "metadata": {
    "id": "Xeng0pbHHYvL"
   },
   "source": [
    "cok fazla verimiz oldugundan train_test_split kullanilabilir"
   ]
  },
  {
   "cell_type": "code",
   "execution_count": 3,
   "metadata": {
    "executionInfo": {
     "elapsed": 3,
     "status": "ok",
     "timestamp": 1660229323081,
     "user": {
      "displayName": "Zahmet Yılmaz",
      "userId": "12121815919257021566"
     },
     "user_tz": -180
    },
    "id": "Ph6G92dO7BOv"
   },
   "outputs": [],
   "source": [
    "def regression_(x,y):\n",
    "    lr=LinearRegression()\n",
    "    r=Ridge()\n",
    "    l=Lasso()\n",
    "    e=ElasticNet()\n",
    "    kn=KNeighborsRegressor()\n",
    "    et=ExtraTreeRegressor()\n",
    "    gb=GradientBoostingRegressor()\n",
    "    dt=DecisionTreeRegressor()\n",
    "    xgbr=XGBRegressor()\n",
    "       \n",
    "    algos=[lr,r,l,e,kn,et,gb,dt,xgbr]\n",
    "    algos_names=['LinearRegressor','Ridge','Lasso','ElasticNet','KNeighbors','ExtraTree','GradientBoosting','DecisionTree','XGBRegressor']\n",
    "    \n",
    "    #x_train,x_test,y_train,y_test=train_test_split(x,y,test_size=.1,random_state=13)\n",
    "    \n",
    "    r_score=[]\n",
    "    mse=[]\n",
    "    mae=[]\n",
    "    \n",
    "    result=pd.DataFrame(columns=['R_square','MSE','MAE'],index=algos_names)\n",
    "    \n",
    "    for algo in algos:\n",
    "        pred=algo.fit(x,y).predict(x)\n",
    "        r_score.append(r2_score(y,pred))\n",
    "        mse.append(mean_squared_error(y,pred)**.5)\n",
    "        mae.append(mean_absolute_error(y,pred))\n",
    "    \n",
    "    result.R_square=r_score\n",
    "    result.MSE=mse\n",
    "    result.MAE=mae\n",
    "    \n",
    "    return result.sort_values('R_square',ascending=False)"
   ]
  },
  {
   "cell_type": "code",
   "execution_count": 4,
   "metadata": {
    "executionInfo": {
     "elapsed": 600,
     "status": "ok",
     "timestamp": 1660229323679,
     "user": {
      "displayName": "Zahmet Yılmaz",
      "userId": "12121815919257021566"
     },
     "user_tz": -180
    },
    "id": "cVDItP5C6njd"
   },
   "outputs": [],
   "source": [
    "def classification_(X,y): \n",
    "    xgbc=XGBClassifier()\n",
    "    g=GaussianNB()\n",
    "    b=BernoulliNB()\n",
    "    k=KNeighborsClassifier()\n",
    "    svc=SVC()\n",
    "    d=DecisionTreeClassifier()\n",
    "    log=LogisticRegression()\n",
    "    gbc=GradientBoostingClassifier()\n",
    "    mn=MultinomialNB()\n",
    "    rf=RandomForestClassifier()\n",
    "    ab=AdaBoostClassifier()\n",
    "    \n",
    "    algos=[xgbc,g,b,k,svc,d,log,gbc,mn,rf,ab]\n",
    "    algos_name=['XGBClassifier','Gaussian','Bernoulli','KNeighbors','SVC','DecisionTree','LogisticReg','GradientBoosting','MultinominalNB','RandomForest','AdaBoost']\n",
    "\n",
    "    X_train,X_test,y_train,y_test=train_test_split(X,y,test_size=.2,random_state=101)\n",
    "\n",
    "    accuracy = []\n",
    "    precision = []\n",
    "    recall = []\n",
    "    f1 = []\n",
    "   \n",
    "    result=pd.DataFrame(columns=['AccuracyScore','PrecisionScore','RecallScore','f1_Score'],index=algos_name)\n",
    "    \n",
    "    for i in algos:\n",
    "        predict=i.fit(X_train,y_train).predict(X_test)\n",
    "        accuracy.append(accuracy_score(y_test,predict))\n",
    "        precision.append(precision_score(y_test,predict))\n",
    "        recall.append(recall_score(y_test,predict))\n",
    "        f1.append(f1_score(y_test,predict))\n",
    "      \n",
    "    result.AccuracyScore=accuracy\n",
    "    result.PrecisionScore=precision\n",
    "    result.RecallScore=recall\n",
    "    result.f1_Score=f1\n",
    "    \n",
    "    return result.sort_values('AccuracyScore',ascending=False)"
   ]
  },
  {
   "cell_type": "code",
   "execution_count": 5,
   "metadata": {
    "executionInfo": {
     "elapsed": 4724,
     "status": "ok",
     "timestamp": 1660229328400,
     "user": {
      "displayName": "Zahmet Yılmaz",
      "userId": "12121815919257021566"
     },
     "user_tz": -180
    },
    "id": "j5fdqMkEGGd6"
   },
   "outputs": [],
   "source": [
    "df = pd.read_csv('/content/drive/Othercomputers/My Laptop/0 Yaz Kampı/PBL1/3 - Loan Prediction/LoansTrainingSet.csv', low_memory=False)"
   ]
  },
  {
   "cell_type": "markdown",
   "metadata": {
    "id": "YeuFdHIfLoqA"
   },
   "source": [
    "## EDA and Missing Values"
   ]
  },
  {
   "cell_type": "markdown",
   "metadata": {
    "id": "GBsZ0ndLNDf1"
   },
   "source": [
    "**Data Dictionary**\n",
    "\n",
    "![image.png](data:image/png;base64,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)"
   ]
  },
  {
   "cell_type": "code",
   "execution_count": 6,
   "metadata": {
    "colab": {
     "base_uri": "https://localhost:8080/",
     "height": 548
    },
    "executionInfo": {
     "elapsed": 17,
     "status": "ok",
     "timestamp": 1660229328400,
     "user": {
      "displayName": "Zahmet Yılmaz",
      "userId": "12121815919257021566"
     },
     "user_tz": -180
    },
    "id": "fL8qXIWtQeOM",
    "outputId": "9f07bca7-2cdb-49c9-afe1-1e2a6011af04"
   },
   "outputs": [
    {
     "data": {
      "text/html": [
       "\n",
       "  <div id=\"df-c96a464f-5cd0-42b4-8a3d-3eea192807d9\">\n",
       "    <div class=\"colab-df-container\">\n",
       "      <div>\n",
       "<style scoped>\n",
       "    .dataframe tbody tr th:only-of-type {\n",
       "        vertical-align: middle;\n",
       "    }\n",
       "\n",
       "    .dataframe tbody tr th {\n",
       "        vertical-align: top;\n",
       "    }\n",
       "\n",
       "    .dataframe thead th {\n",
       "        text-align: right;\n",
       "    }\n",
       "</style>\n",
       "<table border=\"1\" class=\"dataframe\">\n",
       "  <thead>\n",
       "    <tr style=\"text-align: right;\">\n",
       "      <th></th>\n",
       "      <th>Loan ID</th>\n",
       "      <th>Customer ID</th>\n",
       "      <th>Loan Status</th>\n",
       "      <th>Current Loan Amount</th>\n",
       "      <th>Term</th>\n",
       "      <th>Credit Score</th>\n",
       "      <th>Years in current job</th>\n",
       "      <th>Home Ownership</th>\n",
       "      <th>Annual Income</th>\n",
       "      <th>Purpose</th>\n",
       "      <th>Monthly Debt</th>\n",
       "      <th>Years of Credit History</th>\n",
       "      <th>Months since last delinquent</th>\n",
       "      <th>Number of Open Accounts</th>\n",
       "      <th>Number of Credit Problems</th>\n",
       "      <th>Current Credit Balance</th>\n",
       "      <th>Maximum Open Credit</th>\n",
       "      <th>Bankruptcies</th>\n",
       "      <th>Tax Liens</th>\n",
       "    </tr>\n",
       "  </thead>\n",
       "  <tbody>\n",
       "    <tr>\n",
       "      <th>256215</th>\n",
       "      <td>ff3bf8c8-eda5-47fa-81fc-e7d36f0ca6fd</td>\n",
       "      <td>fffef78a-60b3-4778-b8bb-d2467595ed53</td>\n",
       "      <td>Charged Off</td>\n",
       "      <td>24530</td>\n",
       "      <td>Short Term</td>\n",
       "      <td>7280.0</td>\n",
       "      <td>10+ years</td>\n",
       "      <td>Rent</td>\n",
       "      <td>84074.0</td>\n",
       "      <td>Debt Consolidation</td>\n",
       "      <td>$1,674.47</td>\n",
       "      <td>20.9</td>\n",
       "      <td>NaN</td>\n",
       "      <td>19</td>\n",
       "      <td>0</td>\n",
       "      <td>33160</td>\n",
       "      <td>48337</td>\n",
       "      <td>0.0</td>\n",
       "      <td>0.0</td>\n",
       "    </tr>\n",
       "    <tr>\n",
       "      <th>247372</th>\n",
       "      <td>f6626b9b-6311-4512-8eb6-f3e846e9b3cc</td>\n",
       "      <td>ffff610c-85ba-49fd-9005-8ce90785ff25</td>\n",
       "      <td>Charged Off</td>\n",
       "      <td>10222</td>\n",
       "      <td>Short Term</td>\n",
       "      <td>740.0</td>\n",
       "      <td>1 year</td>\n",
       "      <td>Own Home</td>\n",
       "      <td>51110.0</td>\n",
       "      <td>Debt Consolidation</td>\n",
       "      <td>$1,175.53</td>\n",
       "      <td>11.9</td>\n",
       "      <td>NaN</td>\n",
       "      <td>23</td>\n",
       "      <td>0</td>\n",
       "      <td>21128</td>\n",
       "      <td>52039</td>\n",
       "      <td>0.0</td>\n",
       "      <td>0.0</td>\n",
       "    </tr>\n",
       "    <tr>\n",
       "      <th>247371</th>\n",
       "      <td>f6626b9b-6311-4512-8eb6-f3e846e9b3cc</td>\n",
       "      <td>ffff610c-85ba-49fd-9005-8ce90785ff25</td>\n",
       "      <td>Charged Off</td>\n",
       "      <td>10222</td>\n",
       "      <td>Short Term</td>\n",
       "      <td>740.0</td>\n",
       "      <td>1 year</td>\n",
       "      <td>Own Home</td>\n",
       "      <td>51110.0</td>\n",
       "      <td>Debt Consolidation</td>\n",
       "      <td>$1,175.53</td>\n",
       "      <td>11.9</td>\n",
       "      <td>NaN</td>\n",
       "      <td>23</td>\n",
       "      <td>0</td>\n",
       "      <td>21128</td>\n",
       "      <td>52039</td>\n",
       "      <td>0.0</td>\n",
       "      <td>0.0</td>\n",
       "    </tr>\n",
       "    <tr>\n",
       "      <th>168035</th>\n",
       "      <td>a71d4b6e-3da7-45ae-9db6-d8aece68e4ae</td>\n",
       "      <td>ffff6cf8-4779-48be-9fc1-5a93b6e16c2d</td>\n",
       "      <td>Fully Paid</td>\n",
       "      <td>19996</td>\n",
       "      <td>Short Term</td>\n",
       "      <td>690.0</td>\n",
       "      <td>9 years</td>\n",
       "      <td>Rent</td>\n",
       "      <td>107978.0</td>\n",
       "      <td>Debt Consolidation</td>\n",
       "      <td>$1,574.69</td>\n",
       "      <td>11.3</td>\n",
       "      <td>35.0</td>\n",
       "      <td>8</td>\n",
       "      <td>1</td>\n",
       "      <td>13626</td>\n",
       "      <td>21802</td>\n",
       "      <td>0.0</td>\n",
       "      <td>0.0</td>\n",
       "    </tr>\n",
       "    <tr>\n",
       "      <th>62242</th>\n",
       "      <td>3df6ff34-a3b4-49f4-a72a-e23fc77f4072</td>\n",
       "      <td>ffffc64c-8637-4a08-b2e7-5b67bd8da124</td>\n",
       "      <td>Fully Paid</td>\n",
       "      <td>26904</td>\n",
       "      <td>Long Term</td>\n",
       "      <td>NaN</td>\n",
       "      <td>10+ years</td>\n",
       "      <td>Rent</td>\n",
       "      <td>NaN</td>\n",
       "      <td>Debt Consolidation</td>\n",
       "      <td>$1,701.90</td>\n",
       "      <td>14.4</td>\n",
       "      <td>45.0</td>\n",
       "      <td>21</td>\n",
       "      <td>1</td>\n",
       "      <td>12507</td>\n",
       "      <td>27794</td>\n",
       "      <td>0.0</td>\n",
       "      <td>1.0</td>\n",
       "    </tr>\n",
       "  </tbody>\n",
       "</table>\n",
       "</div>\n",
       "      <button class=\"colab-df-convert\" onclick=\"convertToInteractive('df-c96a464f-5cd0-42b4-8a3d-3eea192807d9')\"\n",
       "              title=\"Convert this dataframe to an interactive table.\"\n",
       "              style=\"display:none;\">\n",
       "        \n",
       "  <svg xmlns=\"http://www.w3.org/2000/svg\" height=\"24px\"viewBox=\"0 0 24 24\"\n",
       "       width=\"24px\">\n",
       "    <path d=\"M0 0h24v24H0V0z\" fill=\"none\"/>\n",
       "    <path d=\"M18.56 5.44l.94 2.06.94-2.06 2.06-.94-2.06-.94-.94-2.06-.94 2.06-2.06.94zm-11 1L8.5 8.5l.94-2.06 2.06-.94-2.06-.94L8.5 2.5l-.94 2.06-2.06.94zm10 10l.94 2.06.94-2.06 2.06-.94-2.06-.94-.94-2.06-.94 2.06-2.06.94z\"/><path d=\"M17.41 7.96l-1.37-1.37c-.4-.4-.92-.59-1.43-.59-.52 0-1.04.2-1.43.59L10.3 9.45l-7.72 7.72c-.78.78-.78 2.05 0 2.83L4 21.41c.39.39.9.59 1.41.59.51 0 1.02-.2 1.41-.59l7.78-7.78 2.81-2.81c.8-.78.8-2.07 0-2.86zM5.41 20L4 18.59l7.72-7.72 1.47 1.35L5.41 20z\"/>\n",
       "  </svg>\n",
       "      </button>\n",
       "      \n",
       "  <style>\n",
       "    .colab-df-container {\n",
       "      display:flex;\n",
       "      flex-wrap:wrap;\n",
       "      gap: 12px;\n",
       "    }\n",
       "\n",
       "    .colab-df-convert {\n",
       "      background-color: #E8F0FE;\n",
       "      border: none;\n",
       "      border-radius: 50%;\n",
       "      cursor: pointer;\n",
       "      display: none;\n",
       "      fill: #1967D2;\n",
       "      height: 32px;\n",
       "      padding: 0 0 0 0;\n",
       "      width: 32px;\n",
       "    }\n",
       "\n",
       "    .colab-df-convert:hover {\n",
       "      background-color: #E2EBFA;\n",
       "      box-shadow: 0px 1px 2px rgba(60, 64, 67, 0.3), 0px 1px 3px 1px rgba(60, 64, 67, 0.15);\n",
       "      fill: #174EA6;\n",
       "    }\n",
       "\n",
       "    [theme=dark] .colab-df-convert {\n",
       "      background-color: #3B4455;\n",
       "      fill: #D2E3FC;\n",
       "    }\n",
       "\n",
       "    [theme=dark] .colab-df-convert:hover {\n",
       "      background-color: #434B5C;\n",
       "      box-shadow: 0px 1px 3px 1px rgba(0, 0, 0, 0.15);\n",
       "      filter: drop-shadow(0px 1px 2px rgba(0, 0, 0, 0.3));\n",
       "      fill: #FFFFFF;\n",
       "    }\n",
       "  </style>\n",
       "\n",
       "      <script>\n",
       "        const buttonEl =\n",
       "          document.querySelector('#df-c96a464f-5cd0-42b4-8a3d-3eea192807d9 button.colab-df-convert');\n",
       "        buttonEl.style.display =\n",
       "          google.colab.kernel.accessAllowed ? 'block' : 'none';\n",
       "\n",
       "        async function convertToInteractive(key) {\n",
       "          const element = document.querySelector('#df-c96a464f-5cd0-42b4-8a3d-3eea192807d9');\n",
       "          const dataTable =\n",
       "            await google.colab.kernel.invokeFunction('convertToInteractive',\n",
       "                                                     [key], {});\n",
       "          if (!dataTable) return;\n",
       "\n",
       "          const docLinkHtml = 'Like what you see? Visit the ' +\n",
       "            '<a target=\"_blank\" href=https://colab.research.google.com/notebooks/data_table.ipynb>data table notebook</a>'\n",
       "            + ' to learn more about interactive tables.';\n",
       "          element.innerHTML = '';\n",
       "          dataTable['output_type'] = 'display_data';\n",
       "          await google.colab.output.renderOutput(dataTable, element);\n",
       "          const docLink = document.createElement('div');\n",
       "          docLink.innerHTML = docLinkHtml;\n",
       "          element.appendChild(docLink);\n",
       "        }\n",
       "      </script>\n",
       "    </div>\n",
       "  </div>\n",
       "  "
      ],
      "text/plain": [
       "                                     Loan ID  \\\n",
       "256215  ff3bf8c8-eda5-47fa-81fc-e7d36f0ca6fd   \n",
       "247372  f6626b9b-6311-4512-8eb6-f3e846e9b3cc   \n",
       "247371  f6626b9b-6311-4512-8eb6-f3e846e9b3cc   \n",
       "168035  a71d4b6e-3da7-45ae-9db6-d8aece68e4ae   \n",
       "62242   3df6ff34-a3b4-49f4-a72a-e23fc77f4072   \n",
       "\n",
       "                                 Customer ID  Loan Status  \\\n",
       "256215  fffef78a-60b3-4778-b8bb-d2467595ed53  Charged Off   \n",
       "247372  ffff610c-85ba-49fd-9005-8ce90785ff25  Charged Off   \n",
       "247371  ffff610c-85ba-49fd-9005-8ce90785ff25  Charged Off   \n",
       "168035  ffff6cf8-4779-48be-9fc1-5a93b6e16c2d   Fully Paid   \n",
       "62242   ffffc64c-8637-4a08-b2e7-5b67bd8da124   Fully Paid   \n",
       "\n",
       "        Current Loan Amount        Term  Credit Score Years in current job  \\\n",
       "256215                24530  Short Term        7280.0            10+ years   \n",
       "247372                10222  Short Term         740.0               1 year   \n",
       "247371                10222  Short Term         740.0               1 year   \n",
       "168035                19996  Short Term         690.0              9 years   \n",
       "62242                 26904   Long Term           NaN            10+ years   \n",
       "\n",
       "       Home Ownership  Annual Income             Purpose Monthly Debt  \\\n",
       "256215           Rent        84074.0  Debt Consolidation   $1,674.47    \n",
       "247372       Own Home        51110.0  Debt Consolidation   $1,175.53    \n",
       "247371       Own Home        51110.0  Debt Consolidation   $1,175.53    \n",
       "168035           Rent       107978.0  Debt Consolidation   $1,574.69    \n",
       "62242            Rent            NaN  Debt Consolidation   $1,701.90    \n",
       "\n",
       "        Years of Credit History  Months since last delinquent  \\\n",
       "256215                     20.9                           NaN   \n",
       "247372                     11.9                           NaN   \n",
       "247371                     11.9                           NaN   \n",
       "168035                     11.3                          35.0   \n",
       "62242                      14.4                          45.0   \n",
       "\n",
       "        Number of Open Accounts  Number of Credit Problems  \\\n",
       "256215                       19                          0   \n",
       "247372                       23                          0   \n",
       "247371                       23                          0   \n",
       "168035                        8                          1   \n",
       "62242                        21                          1   \n",
       "\n",
       "        Current Credit Balance Maximum Open Credit  Bankruptcies  Tax Liens  \n",
       "256215                   33160               48337           0.0        0.0  \n",
       "247372                   21128               52039           0.0        0.0  \n",
       "247371                   21128               52039           0.0        0.0  \n",
       "168035                   13626               21802           0.0        0.0  \n",
       "62242                    12507               27794           0.0        1.0  "
      ]
     },
     "execution_count": 6,
     "metadata": {},
     "output_type": "execute_result"
    }
   ],
   "source": [
    "df.sort_values(by='Customer ID').tail(5)"
   ]
  },
  {
   "cell_type": "markdown",
   "metadata": {
    "id": "vZLga65zPkJl"
   },
   "source": [
    "247372 ve 247371 indexlerine sahip olan satirlar ayni. Bu yuzden loan id si ve customer id si ayni olan cift satirlardan bir tane kalacak sekilde silicez."
   ]
  },
  {
   "cell_type": "code",
   "execution_count": 7,
   "metadata": {
    "executionInfo": {
     "elapsed": 633,
     "status": "ok",
     "timestamp": 1660229329026,
     "user": {
      "displayName": "Zahmet Yılmaz",
      "userId": "12121815919257021566"
     },
     "user_tz": -180
    },
    "id": "hujQ3bbdQAZr"
   },
   "outputs": [],
   "source": [
    "df.drop_duplicates(subset=['Loan ID', 'Customer ID'], keep='last', inplace=True) # 2 li ciftlerden sonra gelen kalsin demek icin keep='last kullanilir"
   ]
  },
  {
   "cell_type": "code",
   "execution_count": 8,
   "metadata": {
    "colab": {
     "base_uri": "https://localhost:8080/"
    },
    "executionInfo": {
     "elapsed": 14,
     "status": "ok",
     "timestamp": 1660229329026,
     "user": {
      "displayName": "Zahmet Yılmaz",
      "userId": "12121815919257021566"
     },
     "user_tz": -180
    },
    "id": "0c_w7uF5NYL7",
    "outputId": "868c7b44-0be8-4e38-d420-9f2dbfec7cd8"
   },
   "outputs": [
    {
     "data": {
      "text/plain": [
       "Loan ID                         215700\n",
       "Customer ID                     215700\n",
       "Loan Status                          2\n",
       "Current Loan Amount              27306\n",
       "Term                                 2\n",
       "Credit Score                       314\n",
       "Years in current job                11\n",
       "Home Ownership                       4\n",
       "Annual Income                    59781\n",
       "Purpose                             10\n",
       "Monthly Debt                    128776\n",
       "Years of Credit History            541\n",
       "Months since last delinquent       131\n",
       "Number of Open Accounts             59\n",
       "Number of Credit Problems           12\n",
       "Current Credit Balance           45630\n",
       "Maximum Open Credit              68894\n",
       "Bankruptcies                         8\n",
       "Tax Liens                           12\n",
       "dtype: int64"
      ]
     },
     "execution_count": 8,
     "metadata": {},
     "output_type": "execute_result"
    }
   ],
   "source": [
    "df.nunique() # bazi satirlarin hem loan id leri hem de customer id leri ayni duzenleme gerekli"
   ]
  },
  {
   "cell_type": "code",
   "execution_count": 9,
   "metadata": {
    "colab": {
     "base_uri": "https://localhost:8080/"
    },
    "executionInfo": {
     "elapsed": 14,
     "status": "ok",
     "timestamp": 1660229329027,
     "user": {
      "displayName": "Zahmet Yılmaz",
      "userId": "12121815919257021566"
     },
     "user_tz": -180
    },
    "id": "jjrRKjWNQkfB",
    "outputId": "6d44d949-3b98-4715-8e09-142c4d576368"
   },
   "outputs": [
    {
     "name": "stdout",
     "output_type": "stream",
     "text": [
      "<class 'pandas.core.frame.DataFrame'>\n",
      "Int64Index: 215700 entries, 0 to 256983\n",
      "Data columns (total 19 columns):\n",
      " #   Column                        Non-Null Count   Dtype  \n",
      "---  ------                        --------------   -----  \n",
      " 0   Loan ID                       215700 non-null  object \n",
      " 1   Customer ID                   215700 non-null  object \n",
      " 2   Loan Status                   215700 non-null  object \n",
      " 3   Current Loan Amount           215700 non-null  int64  \n",
      " 4   Term                          215700 non-null  object \n",
      " 5   Credit Score                  167406 non-null  float64\n",
      " 6   Years in current job          206710 non-null  object \n",
      " 7   Home Ownership                215700 non-null  object \n",
      " 8   Annual Income                 167406 non-null  float64\n",
      " 9   Purpose                       215700 non-null  object \n",
      " 10  Monthly Debt                  215700 non-null  object \n",
      " 11  Years of Credit History       215700 non-null  float64\n",
      " 12  Months since last delinquent  97438 non-null   float64\n",
      " 13  Number of Open Accounts       215700 non-null  int64  \n",
      " 14  Number of Credit Problems     215700 non-null  int64  \n",
      " 15  Current Credit Balance        215700 non-null  int64  \n",
      " 16  Maximum Open Credit           215700 non-null  object \n",
      " 17  Bankruptcies                  215248 non-null  float64\n",
      " 18  Tax Liens                     215678 non-null  float64\n",
      "dtypes: float64(6), int64(4), object(9)\n",
      "memory usage: 32.9+ MB\n"
     ]
    }
   ],
   "source": [
    "df.info()"
   ]
  },
  {
   "cell_type": "code",
   "execution_count": 10,
   "metadata": {
    "colab": {
     "base_uri": "https://localhost:8080/"
    },
    "executionInfo": {
     "elapsed": 11,
     "status": "ok",
     "timestamp": 1660229329027,
     "user": {
      "displayName": "Zahmet Yılmaz",
      "userId": "12121815919257021566"
     },
     "user_tz": -180
    },
    "id": "Yyj-KVbxLsCY",
    "outputId": "7056809b-422a-405c-ae8f-4309ff3e7725"
   },
   "outputs": [
    {
     "data": {
      "text/plain": [
       "Loan ID                         0.000000\n",
       "Customer ID                     0.000000\n",
       "Loan Status                     0.000000\n",
       "Current Loan Amount             0.000000\n",
       "Term                            0.000000\n",
       "Credit Score                    0.223894\n",
       "Years in current job            0.041678\n",
       "Home Ownership                  0.000000\n",
       "Annual Income                   0.223894\n",
       "Purpose                         0.000000\n",
       "Monthly Debt                    0.000000\n",
       "Years of Credit History         0.000000\n",
       "Months since last delinquent    0.548271\n",
       "Number of Open Accounts         0.000000\n",
       "Number of Credit Problems       0.000000\n",
       "Current Credit Balance          0.000000\n",
       "Maximum Open Credit             0.000000\n",
       "Bankruptcies                    0.002096\n",
       "Tax Liens                       0.000102\n",
       "dtype: float64"
      ]
     },
     "execution_count": 10,
     "metadata": {},
     "output_type": "execute_result"
    }
   ],
   "source": [
    "df.isnull().mean(axis=0) # sutunlardaki nan eleman yuzdesi"
   ]
  },
  {
   "cell_type": "code",
   "execution_count": 11,
   "metadata": {
    "executionInfo": {
     "elapsed": 7,
     "status": "ok",
     "timestamp": 1660229329027,
     "user": {
      "displayName": "Zahmet Yılmaz",
      "userId": "12121815919257021566"
     },
     "user_tz": -180
    },
    "id": "xE_PeH-WMjCl"
   },
   "outputs": [],
   "source": [
    "df.drop('Months since last delinquent', axis=1, inplace=True) # Months since last delinquent cogu bos silinir"
   ]
  },
  {
   "cell_type": "code",
   "execution_count": 12,
   "metadata": {
    "executionInfo": {
     "elapsed": 6,
     "status": "ok",
     "timestamp": 1660229329027,
     "user": {
      "displayName": "Zahmet Yılmaz",
      "userId": "12121815919257021566"
     },
     "user_tz": -180
    },
    "id": "JgP6tsfyMojT"
   },
   "outputs": [],
   "source": [
    "# Bu sutunlardaki nanlar cok az bu yuzden nan a sahip olan satirlar silinir\n",
    "df.drop(df[ (df['Bankruptcies'].isnull()==True) | (df['Tax Liens'].isnull()==True) | (df['Years in current job'].isnull()==True) ].index ,inplace=True) "
   ]
  },
  {
   "cell_type": "code",
   "execution_count": 13,
   "metadata": {
    "colab": {
     "base_uri": "https://localhost:8080/",
     "height": 582
    },
    "executionInfo": {
     "elapsed": 595,
     "status": "ok",
     "timestamp": 1660229329616,
     "user": {
      "displayName": "Zahmet Yılmaz",
      "userId": "12121815919257021566"
     },
     "user_tz": -180
    },
    "id": "bEu8CqLEWEoF",
    "outputId": "6c2e35a4-6e5b-4d73-cefa-f408154aae74"
   },
   "outputs": [
    {
     "data": {
      "text/html": [
       "\n",
       "  <div id=\"df-019f94a8-9633-4054-ace1-49d08a839567\">\n",
       "    <div class=\"colab-df-container\">\n",
       "      <div>\n",
       "<style scoped>\n",
       "    .dataframe tbody tr th:only-of-type {\n",
       "        vertical-align: middle;\n",
       "    }\n",
       "\n",
       "    .dataframe tbody tr th {\n",
       "        vertical-align: top;\n",
       "    }\n",
       "\n",
       "    .dataframe thead th {\n",
       "        text-align: right;\n",
       "    }\n",
       "</style>\n",
       "<table border=\"1\" class=\"dataframe\">\n",
       "  <thead>\n",
       "    <tr style=\"text-align: right;\">\n",
       "      <th></th>\n",
       "      <th>Loan ID</th>\n",
       "      <th>Customer ID</th>\n",
       "      <th>Loan Status</th>\n",
       "      <th>Current Loan Amount</th>\n",
       "      <th>Term</th>\n",
       "      <th>Credit Score</th>\n",
       "      <th>Years in current job</th>\n",
       "      <th>Home Ownership</th>\n",
       "      <th>Annual Income</th>\n",
       "      <th>Purpose</th>\n",
       "      <th>Monthly Debt</th>\n",
       "      <th>Years of Credit History</th>\n",
       "      <th>Number of Open Accounts</th>\n",
       "      <th>Number of Credit Problems</th>\n",
       "      <th>Current Credit Balance</th>\n",
       "      <th>Maximum Open Credit</th>\n",
       "      <th>Bankruptcies</th>\n",
       "      <th>Tax Liens</th>\n",
       "    </tr>\n",
       "  </thead>\n",
       "  <tbody>\n",
       "    <tr>\n",
       "      <th>28109</th>\n",
       "      <td>1c1b0763-ca84-48d8-8c71-9e219b284098</td>\n",
       "      <td>99713540-5b38-4b30-861b-d0107848be00</td>\n",
       "      <td>Fully Paid</td>\n",
       "      <td>1999</td>\n",
       "      <td>Short Term</td>\n",
       "      <td>NaN</td>\n",
       "      <td>10+ years</td>\n",
       "      <td>Home Mortgage</td>\n",
       "      <td>NaN</td>\n",
       "      <td>Home Improvements</td>\n",
       "      <td>$572.77</td>\n",
       "      <td>15.5</td>\n",
       "      <td>7</td>\n",
       "      <td>0</td>\n",
       "      <td>14819</td>\n",
       "      <td>17292</td>\n",
       "      <td>0.0</td>\n",
       "      <td>0.0</td>\n",
       "    </tr>\n",
       "    <tr>\n",
       "      <th>26941</th>\n",
       "      <td>1aedd56d-d01c-488d-aa50-7eb869c6b366</td>\n",
       "      <td>96956981-a8dc-491a-ad03-42b5fabe64a0</td>\n",
       "      <td>Fully Paid</td>\n",
       "      <td>8857</td>\n",
       "      <td>Short Term</td>\n",
       "      <td>745.0</td>\n",
       "      <td>10+ years</td>\n",
       "      <td>Own Home</td>\n",
       "      <td>73808.0</td>\n",
       "      <td>Debt Consolidation</td>\n",
       "      <td>$1,057.91</td>\n",
       "      <td>18.7</td>\n",
       "      <td>12</td>\n",
       "      <td>1</td>\n",
       "      <td>7238</td>\n",
       "      <td>32027</td>\n",
       "      <td>1.0</td>\n",
       "      <td>0.0</td>\n",
       "    </tr>\n",
       "    <tr>\n",
       "      <th>207052</th>\n",
       "      <td>ce15ec31-1965-4cf1-bf4f-29a51db19744</td>\n",
       "      <td>7e212a98-b74f-445b-be82-317fd21a5846</td>\n",
       "      <td>Fully Paid</td>\n",
       "      <td>99999999</td>\n",
       "      <td>Short Term</td>\n",
       "      <td>710.0</td>\n",
       "      <td>5 years</td>\n",
       "      <td>Home Mortgage</td>\n",
       "      <td>15102.0</td>\n",
       "      <td>Debt Consolidation</td>\n",
       "      <td>$432.92</td>\n",
       "      <td>11.1</td>\n",
       "      <td>12</td>\n",
       "      <td>0</td>\n",
       "      <td>10780</td>\n",
       "      <td>35577</td>\n",
       "      <td>0.0</td>\n",
       "      <td>0.0</td>\n",
       "    </tr>\n",
       "    <tr>\n",
       "      <th>84844</th>\n",
       "      <td>544e3bf0-9396-40d8-879f-ba5e01b4dbf9</td>\n",
       "      <td>8b468d55-6b62-4344-8175-21b6c358f3c8</td>\n",
       "      <td>Fully Paid</td>\n",
       "      <td>22275</td>\n",
       "      <td>Short Term</td>\n",
       "      <td>742.0</td>\n",
       "      <td>2 years</td>\n",
       "      <td>Rent</td>\n",
       "      <td>162000.0</td>\n",
       "      <td>Debt Consolidation</td>\n",
       "      <td>$1,809.00</td>\n",
       "      <td>13.8</td>\n",
       "      <td>16</td>\n",
       "      <td>1</td>\n",
       "      <td>21603</td>\n",
       "      <td>29674</td>\n",
       "      <td>0.0</td>\n",
       "      <td>0.0</td>\n",
       "    </tr>\n",
       "    <tr>\n",
       "      <th>227387</th>\n",
       "      <td>e2326d9e-c8fe-4588-b788-adebe623d9d2</td>\n",
       "      <td>567dc811-cff1-447f-a7d0-5fa6eb8510bf</td>\n",
       "      <td>Charged Off</td>\n",
       "      <td>17659</td>\n",
       "      <td>Long Term</td>\n",
       "      <td>721.0</td>\n",
       "      <td>4 years</td>\n",
       "      <td>Home Mortgage</td>\n",
       "      <td>37337.0</td>\n",
       "      <td>Debt Consolidation</td>\n",
       "      <td>$432.48</td>\n",
       "      <td>14.0</td>\n",
       "      <td>10</td>\n",
       "      <td>1</td>\n",
       "      <td>10342</td>\n",
       "      <td>19775</td>\n",
       "      <td>1.0</td>\n",
       "      <td>0.0</td>\n",
       "    </tr>\n",
       "  </tbody>\n",
       "</table>\n",
       "</div>\n",
       "      <button class=\"colab-df-convert\" onclick=\"convertToInteractive('df-019f94a8-9633-4054-ace1-49d08a839567')\"\n",
       "              title=\"Convert this dataframe to an interactive table.\"\n",
       "              style=\"display:none;\">\n",
       "        \n",
       "  <svg xmlns=\"http://www.w3.org/2000/svg\" height=\"24px\"viewBox=\"0 0 24 24\"\n",
       "       width=\"24px\">\n",
       "    <path d=\"M0 0h24v24H0V0z\" fill=\"none\"/>\n",
       "    <path d=\"M18.56 5.44l.94 2.06.94-2.06 2.06-.94-2.06-.94-.94-2.06-.94 2.06-2.06.94zm-11 1L8.5 8.5l.94-2.06 2.06-.94-2.06-.94L8.5 2.5l-.94 2.06-2.06.94zm10 10l.94 2.06.94-2.06 2.06-.94-2.06-.94-.94-2.06-.94 2.06-2.06.94z\"/><path d=\"M17.41 7.96l-1.37-1.37c-.4-.4-.92-.59-1.43-.59-.52 0-1.04.2-1.43.59L10.3 9.45l-7.72 7.72c-.78.78-.78 2.05 0 2.83L4 21.41c.39.39.9.59 1.41.59.51 0 1.02-.2 1.41-.59l7.78-7.78 2.81-2.81c.8-.78.8-2.07 0-2.86zM5.41 20L4 18.59l7.72-7.72 1.47 1.35L5.41 20z\"/>\n",
       "  </svg>\n",
       "      </button>\n",
       "      \n",
       "  <style>\n",
       "    .colab-df-container {\n",
       "      display:flex;\n",
       "      flex-wrap:wrap;\n",
       "      gap: 12px;\n",
       "    }\n",
       "\n",
       "    .colab-df-convert {\n",
       "      background-color: #E8F0FE;\n",
       "      border: none;\n",
       "      border-radius: 50%;\n",
       "      cursor: pointer;\n",
       "      display: none;\n",
       "      fill: #1967D2;\n",
       "      height: 32px;\n",
       "      padding: 0 0 0 0;\n",
       "      width: 32px;\n",
       "    }\n",
       "\n",
       "    .colab-df-convert:hover {\n",
       "      background-color: #E2EBFA;\n",
       "      box-shadow: 0px 1px 2px rgba(60, 64, 67, 0.3), 0px 1px 3px 1px rgba(60, 64, 67, 0.15);\n",
       "      fill: #174EA6;\n",
       "    }\n",
       "\n",
       "    [theme=dark] .colab-df-convert {\n",
       "      background-color: #3B4455;\n",
       "      fill: #D2E3FC;\n",
       "    }\n",
       "\n",
       "    [theme=dark] .colab-df-convert:hover {\n",
       "      background-color: #434B5C;\n",
       "      box-shadow: 0px 1px 3px 1px rgba(0, 0, 0, 0.15);\n",
       "      filter: drop-shadow(0px 1px 2px rgba(0, 0, 0, 0.3));\n",
       "      fill: #FFFFFF;\n",
       "    }\n",
       "  </style>\n",
       "\n",
       "      <script>\n",
       "        const buttonEl =\n",
       "          document.querySelector('#df-019f94a8-9633-4054-ace1-49d08a839567 button.colab-df-convert');\n",
       "        buttonEl.style.display =\n",
       "          google.colab.kernel.accessAllowed ? 'block' : 'none';\n",
       "\n",
       "        async function convertToInteractive(key) {\n",
       "          const element = document.querySelector('#df-019f94a8-9633-4054-ace1-49d08a839567');\n",
       "          const dataTable =\n",
       "            await google.colab.kernel.invokeFunction('convertToInteractive',\n",
       "                                                     [key], {});\n",
       "          if (!dataTable) return;\n",
       "\n",
       "          const docLinkHtml = 'Like what you see? Visit the ' +\n",
       "            '<a target=\"_blank\" href=https://colab.research.google.com/notebooks/data_table.ipynb>data table notebook</a>'\n",
       "            + ' to learn more about interactive tables.';\n",
       "          element.innerHTML = '';\n",
       "          dataTable['output_type'] = 'display_data';\n",
       "          await google.colab.output.renderOutput(dataTable, element);\n",
       "          const docLink = document.createElement('div');\n",
       "          docLink.innerHTML = docLinkHtml;\n",
       "          element.appendChild(docLink);\n",
       "        }\n",
       "      </script>\n",
       "    </div>\n",
       "  </div>\n",
       "  "
      ],
      "text/plain": [
       "                                     Loan ID  \\\n",
       "28109   1c1b0763-ca84-48d8-8c71-9e219b284098   \n",
       "26941   1aedd56d-d01c-488d-aa50-7eb869c6b366   \n",
       "207052  ce15ec31-1965-4cf1-bf4f-29a51db19744   \n",
       "84844   544e3bf0-9396-40d8-879f-ba5e01b4dbf9   \n",
       "227387  e2326d9e-c8fe-4588-b788-adebe623d9d2   \n",
       "\n",
       "                                 Customer ID  Loan Status  \\\n",
       "28109   99713540-5b38-4b30-861b-d0107848be00   Fully Paid   \n",
       "26941   96956981-a8dc-491a-ad03-42b5fabe64a0   Fully Paid   \n",
       "207052  7e212a98-b74f-445b-be82-317fd21a5846   Fully Paid   \n",
       "84844   8b468d55-6b62-4344-8175-21b6c358f3c8   Fully Paid   \n",
       "227387  567dc811-cff1-447f-a7d0-5fa6eb8510bf  Charged Off   \n",
       "\n",
       "        Current Loan Amount        Term  Credit Score Years in current job  \\\n",
       "28109                  1999  Short Term           NaN            10+ years   \n",
       "26941                  8857  Short Term         745.0            10+ years   \n",
       "207052             99999999  Short Term         710.0              5 years   \n",
       "84844                 22275  Short Term         742.0              2 years   \n",
       "227387                17659   Long Term         721.0              4 years   \n",
       "\n",
       "       Home Ownership  Annual Income             Purpose Monthly Debt  \\\n",
       "28109   Home Mortgage            NaN   Home Improvements      $572.77   \n",
       "26941        Own Home        73808.0  Debt Consolidation   $1,057.91    \n",
       "207052  Home Mortgage        15102.0  Debt Consolidation      $432.92   \n",
       "84844            Rent       162000.0  Debt Consolidation   $1,809.00    \n",
       "227387  Home Mortgage        37337.0  Debt Consolidation      $432.48   \n",
       "\n",
       "        Years of Credit History  Number of Open Accounts  \\\n",
       "28109                      15.5                        7   \n",
       "26941                      18.7                       12   \n",
       "207052                     11.1                       12   \n",
       "84844                      13.8                       16   \n",
       "227387                     14.0                       10   \n",
       "\n",
       "        Number of Credit Problems  Current Credit Balance Maximum Open Credit  \\\n",
       "28109                           0                   14819               17292   \n",
       "26941                           1                    7238               32027   \n",
       "207052                          0                   10780               35577   \n",
       "84844                           1                   21603               29674   \n",
       "227387                          1                   10342               19775   \n",
       "\n",
       "        Bankruptcies  Tax Liens  \n",
       "28109            0.0        0.0  \n",
       "26941            1.0        0.0  \n",
       "207052           0.0        0.0  \n",
       "84844            0.0        0.0  \n",
       "227387           1.0        0.0  "
      ]
     },
     "execution_count": 13,
     "metadata": {},
     "output_type": "execute_result"
    }
   ],
   "source": [
    "df.sample(5)"
   ]
  },
  {
   "cell_type": "code",
   "execution_count": 14,
   "metadata": {
    "colab": {
     "base_uri": "https://localhost:8080/"
    },
    "executionInfo": {
     "elapsed": 9,
     "status": "ok",
     "timestamp": 1660229329617,
     "user": {
      "displayName": "Zahmet Yılmaz",
      "userId": "12121815919257021566"
     },
     "user_tz": -180
    },
    "id": "I3ScjLVcWdMd",
    "outputId": "d10df78b-0948-4f12-b765-33e0c5b9bcf0"
   },
   "outputs": [
    {
     "name": "stdout",
     "output_type": "stream",
     "text": [
      "<class 'pandas.core.frame.DataFrame'>\n",
      "Int64Index: 206258 entries, 0 to 256983\n",
      "Data columns (total 18 columns):\n",
      " #   Column                     Non-Null Count   Dtype  \n",
      "---  ------                     --------------   -----  \n",
      " 0   Loan ID                    206258 non-null  object \n",
      " 1   Customer ID                206258 non-null  object \n",
      " 2   Loan Status                206258 non-null  object \n",
      " 3   Current Loan Amount        206258 non-null  int64  \n",
      " 4   Term                       206258 non-null  object \n",
      " 5   Credit Score               159938 non-null  float64\n",
      " 6   Years in current job       206258 non-null  object \n",
      " 7   Home Ownership             206258 non-null  object \n",
      " 8   Annual Income              159938 non-null  float64\n",
      " 9   Purpose                    206258 non-null  object \n",
      " 10  Monthly Debt               206258 non-null  object \n",
      " 11  Years of Credit History    206258 non-null  float64\n",
      " 12  Number of Open Accounts    206258 non-null  int64  \n",
      " 13  Number of Credit Problems  206258 non-null  int64  \n",
      " 14  Current Credit Balance     206258 non-null  int64  \n",
      " 15  Maximum Open Credit        206258 non-null  object \n",
      " 16  Bankruptcies               206258 non-null  float64\n",
      " 17  Tax Liens                  206258 non-null  float64\n",
      "dtypes: float64(5), int64(4), object(9)\n",
      "memory usage: 29.9+ MB\n"
     ]
    },
    {
     "data": {
      "text/plain": [
       "(Loan ID                      206258\n",
       " Customer ID                  206258\n",
       " Loan Status                       2\n",
       " Current Loan Amount           27046\n",
       " Term                              2\n",
       " Credit Score                    313\n",
       " Years in current job             11\n",
       " Home Ownership                    4\n",
       " Annual Income                 57683\n",
       " Purpose                          10\n",
       " Monthly Debt                 125626\n",
       " Years of Credit History         525\n",
       " Number of Open Accounts          59\n",
       " Number of Credit Problems        12\n",
       " Current Credit Balance        45173\n",
       " Maximum Open Credit           67831\n",
       " Bankruptcies                      8\n",
       " Tax Liens                        12\n",
       " dtype: int64, None)"
      ]
     },
     "execution_count": 14,
     "metadata": {},
     "output_type": "execute_result"
    }
   ],
   "source": [
    "df.nunique(), df.info() # Hem buradaki Data Dictionary'e hem yukardaki df'e hem asagidaki output'a bakilarak cikarimlar yapilmistir\n",
    "# Strateji: her sutunun infosunu oku, data tipine ve nunique e bak, yukarda data tipini dogrula, eger object ise value_counts ile anomali tespit et"
   ]
  },
  {
   "cell_type": "markdown",
   "metadata": {
    "id": "7vE2ye62d90Q"
   },
   "source": [
    "* Monthly Debt object ten float a cevrilmeli\n",
    "* Maximum Open Credit object ten float a cevrilmeli\n",
    "* Loan ID ve Customer ID silinmeli artik ihtiyacimiz yok\n",
    "* Purpose da kucuk harfli other i duzelt\n",
    "\n"
   ]
  },
  {
   "cell_type": "code",
   "execution_count": 15,
   "metadata": {
    "executionInfo": {
     "elapsed": 544,
     "status": "ok",
     "timestamp": 1660229330156,
     "user": {
      "displayName": "Zahmet Yılmaz",
      "userId": "12121815919257021566"
     },
     "user_tz": -180
    },
    "id": "s8S7aPVhiYU3"
   },
   "outputs": [],
   "source": [
    "df['Monthly Debt']=df['Monthly Debt'].str.replace('$','').str.replace(',','').astype(float) # $ i kaldırıp sütunu float a çevirdik"
   ]
  },
  {
   "cell_type": "code",
   "execution_count": 16,
   "metadata": {
    "executionInfo": {
     "elapsed": 61,
     "status": "ok",
     "timestamp": 1660229330158,
     "user": {
      "displayName": "Zahmet Yılmaz",
      "userId": "12121815919257021566"
     },
     "user_tz": -180
    },
    "id": "An6TWc4mineZ"
   },
   "outputs": [],
   "source": [
    "# df['Maximum Open Credit'] de #VALUE! degerlerine sahip olan satirlari sil\n",
    "df.drop(df[df['Maximum Open Credit']=='#VALUE!'].index, inplace=True)"
   ]
  },
  {
   "cell_type": "code",
   "execution_count": 17,
   "metadata": {
    "executionInfo": {
     "elapsed": 61,
     "status": "ok",
     "timestamp": 1660229330159,
     "user": {
      "displayName": "Zahmet Yılmaz",
      "userId": "12121815919257021566"
     },
     "user_tz": -180
    },
    "id": "cWawB6I9ifO0"
   },
   "outputs": [],
   "source": [
    "df['Maximum Open Credit'] = df['Maximum Open Credit'].astype(float) # float a cevirdik"
   ]
  },
  {
   "cell_type": "code",
   "execution_count": 18,
   "metadata": {
    "executionInfo": {
     "elapsed": 61,
     "status": "ok",
     "timestamp": 1660229330159,
     "user": {
      "displayName": "Zahmet Yılmaz",
      "userId": "12121815919257021566"
     },
     "user_tz": -180
    },
    "id": "CY1daBO4jBDU"
   },
   "outputs": [],
   "source": [
    "df.drop(columns=['Loan ID', 'Customer ID'], inplace=True) # gereksiz sutunlar silindi"
   ]
  },
  {
   "cell_type": "code",
   "execution_count": 19,
   "metadata": {
    "colab": {
     "base_uri": "https://localhost:8080/"
    },
    "executionInfo": {
     "elapsed": 62,
     "status": "ok",
     "timestamp": 1660229330160,
     "user": {
      "displayName": "Zahmet Yılmaz",
      "userId": "12121815919257021566"
     },
     "user_tz": -180
    },
    "id": "20dcO-AfdNf0",
    "outputId": "f6476b85-b64e-44cc-b236-b270ef0b6138"
   },
   "outputs": [
    {
     "data": {
      "text/plain": [
       "Debt Consolidation      164012\n",
       "Home Improvements        12133\n",
       "other                    11025\n",
       "Other                     7904\n",
       "Business Loan             3491\n",
       "Buy a Car                 2793\n",
       "Medical Bills             2215\n",
       "Buy House                 1249\n",
       "Take a Trip               1224\n",
       "Educational Expenses       210\n",
       "Name: Purpose, dtype: int64"
      ]
     },
     "execution_count": 19,
     "metadata": {},
     "output_type": "execute_result"
    }
   ],
   "source": [
    "df['Purpose'].value_counts() # other lar birlestirilmeli"
   ]
  },
  {
   "cell_type": "code",
   "execution_count": 20,
   "metadata": {
    "colab": {
     "base_uri": "https://localhost:8080/"
    },
    "executionInfo": {
     "elapsed": 60,
     "status": "ok",
     "timestamp": 1660229330160,
     "user": {
      "displayName": "Zahmet Yılmaz",
      "userId": "12121815919257021566"
     },
     "user_tz": -180
    },
    "id": "4ArakIurg3o5",
    "outputId": "5af51879-de81-4ffd-d08d-58eceb097b4b"
   },
   "outputs": [
    {
     "data": {
      "text/plain": [
       "Debt consolidation      164012\n",
       "Other                    18929\n",
       "Home improvements        12133\n",
       "Business loan             3491\n",
       "Buy a car                 2793\n",
       "Medical bills             2215\n",
       "Buy house                 1249\n",
       "Take a trip               1224\n",
       "Educational expenses       210\n",
       "Name: Purpose, dtype: int64"
      ]
     },
     "execution_count": 20,
     "metadata": {},
     "output_type": "execute_result"
    }
   ],
   "source": [
    "df['Purpose'] = df['Purpose'].apply(lambda x: x.capitalize())\n",
    "df['Purpose'].value_counts()"
   ]
  },
  {
   "cell_type": "markdown",
   "metadata": {
    "id": "nSSWl-orjN5x"
   },
   "source": [
    "## Feature Engineering"
   ]
  },
  {
   "cell_type": "markdown",
   "metadata": {
    "id": "qoqQjRgVYatU"
   },
   "source": [
    "**Credit Utilization Rate**\n",
    "\n",
    "Your credit utilization is the ratio of your total credit to your total debt and is usually expressed as a percentage. If your credit utilization ratio is 20 percent, it means you’re using 20 percent of the credit available to you.\n",
    "\n",
    "![image.png](data:image/png;base64,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)\n"
   ]
  },
  {
   "cell_type": "code",
   "execution_count": 21,
   "metadata": {
    "executionInfo": {
     "elapsed": 45,
     "status": "ok",
     "timestamp": 1660229330161,
     "user": {
      "displayName": "Zahmet Yılmaz",
      "userId": "12121815919257021566"
     },
     "user_tz": -180
    },
    "id": "nMktQLxdg9BZ"
   },
   "outputs": [],
   "source": [
    "# CUR = su anki borc/(en bastan beri olan limit) = totplam harcanan/(toplam harcanan + kalan limit)\n",
    "df['Credit Utilization Rate'] = df['Current Credit Balance']/(df['Current Credit Balance'] + df['Maximum Open Credit'])"
   ]
  },
  {
   "cell_type": "code",
   "execution_count": 22,
   "metadata": {
    "colab": {
     "base_uri": "https://localhost:8080/",
     "height": 274
    },
    "executionInfo": {
     "elapsed": 44,
     "status": "ok",
     "timestamp": 1660229330162,
     "user": {
      "displayName": "Zahmet Yılmaz",
      "userId": "12121815919257021566"
     },
     "user_tz": -180
    },
    "id": "q9YIKY4JkoIy",
    "outputId": "8a8ab254-877a-4fc3-d5d6-c717147089d8"
   },
   "outputs": [
    {
     "data": {
      "text/html": [
       "\n",
       "  <div id=\"df-d10ec81d-3231-40ea-b1c5-dc2067ebe4ac\">\n",
       "    <div class=\"colab-df-container\">\n",
       "      <div>\n",
       "<style scoped>\n",
       "    .dataframe tbody tr th:only-of-type {\n",
       "        vertical-align: middle;\n",
       "    }\n",
       "\n",
       "    .dataframe tbody tr th {\n",
       "        vertical-align: top;\n",
       "    }\n",
       "\n",
       "    .dataframe thead th {\n",
       "        text-align: right;\n",
       "    }\n",
       "</style>\n",
       "<table border=\"1\" class=\"dataframe\">\n",
       "  <thead>\n",
       "    <tr style=\"text-align: right;\">\n",
       "      <th></th>\n",
       "      <th>Loan Status</th>\n",
       "      <th>Current Loan Amount</th>\n",
       "      <th>Term</th>\n",
       "      <th>Credit Score</th>\n",
       "      <th>Years in current job</th>\n",
       "      <th>Home Ownership</th>\n",
       "      <th>Annual Income</th>\n",
       "      <th>Purpose</th>\n",
       "      <th>Monthly Debt</th>\n",
       "      <th>Years of Credit History</th>\n",
       "      <th>Number of Open Accounts</th>\n",
       "      <th>Number of Credit Problems</th>\n",
       "      <th>Current Credit Balance</th>\n",
       "      <th>Maximum Open Credit</th>\n",
       "      <th>Bankruptcies</th>\n",
       "      <th>Tax Liens</th>\n",
       "      <th>Credit Utilization Rate</th>\n",
       "    </tr>\n",
       "  </thead>\n",
       "  <tbody>\n",
       "    <tr>\n",
       "      <th>31808</th>\n",
       "      <td>Fully Paid</td>\n",
       "      <td>99999999</td>\n",
       "      <td>Short Term</td>\n",
       "      <td>750.0</td>\n",
       "      <td>2 years</td>\n",
       "      <td>Home Mortgage</td>\n",
       "      <td>89762.0</td>\n",
       "      <td>Other</td>\n",
       "      <td>682.94</td>\n",
       "      <td>25.3</td>\n",
       "      <td>7</td>\n",
       "      <td>0</td>\n",
       "      <td>146974</td>\n",
       "      <td>0.0</td>\n",
       "      <td>0.0</td>\n",
       "      <td>0.0</td>\n",
       "      <td>1.0</td>\n",
       "    </tr>\n",
       "    <tr>\n",
       "      <th>251357</th>\n",
       "      <td>Charged Off</td>\n",
       "      <td>20944</td>\n",
       "      <td>Long Term</td>\n",
       "      <td>690.0</td>\n",
       "      <td>5 years</td>\n",
       "      <td>Rent</td>\n",
       "      <td>65449.0</td>\n",
       "      <td>Debt consolidation</td>\n",
       "      <td>1908.91</td>\n",
       "      <td>9.5</td>\n",
       "      <td>10</td>\n",
       "      <td>0</td>\n",
       "      <td>10</td>\n",
       "      <td>0.0</td>\n",
       "      <td>0.0</td>\n",
       "      <td>0.0</td>\n",
       "      <td>1.0</td>\n",
       "    </tr>\n",
       "    <tr>\n",
       "      <th>144025</th>\n",
       "      <td>Fully Paid</td>\n",
       "      <td>7954</td>\n",
       "      <td>Short Term</td>\n",
       "      <td>747.0</td>\n",
       "      <td>10+ years</td>\n",
       "      <td>Home Mortgage</td>\n",
       "      <td>31328.0</td>\n",
       "      <td>Home improvements</td>\n",
       "      <td>189.02</td>\n",
       "      <td>19.9</td>\n",
       "      <td>7</td>\n",
       "      <td>0</td>\n",
       "      <td>0</td>\n",
       "      <td>0.0</td>\n",
       "      <td>0.0</td>\n",
       "      <td>0.0</td>\n",
       "      <td>NaN</td>\n",
       "    </tr>\n",
       "  </tbody>\n",
       "</table>\n",
       "</div>\n",
       "      <button class=\"colab-df-convert\" onclick=\"convertToInteractive('df-d10ec81d-3231-40ea-b1c5-dc2067ebe4ac')\"\n",
       "              title=\"Convert this dataframe to an interactive table.\"\n",
       "              style=\"display:none;\">\n",
       "        \n",
       "  <svg xmlns=\"http://www.w3.org/2000/svg\" height=\"24px\"viewBox=\"0 0 24 24\"\n",
       "       width=\"24px\">\n",
       "    <path d=\"M0 0h24v24H0V0z\" fill=\"none\"/>\n",
       "    <path d=\"M18.56 5.44l.94 2.06.94-2.06 2.06-.94-2.06-.94-.94-2.06-.94 2.06-2.06.94zm-11 1L8.5 8.5l.94-2.06 2.06-.94-2.06-.94L8.5 2.5l-.94 2.06-2.06.94zm10 10l.94 2.06.94-2.06 2.06-.94-2.06-.94-.94-2.06-.94 2.06-2.06.94z\"/><path d=\"M17.41 7.96l-1.37-1.37c-.4-.4-.92-.59-1.43-.59-.52 0-1.04.2-1.43.59L10.3 9.45l-7.72 7.72c-.78.78-.78 2.05 0 2.83L4 21.41c.39.39.9.59 1.41.59.51 0 1.02-.2 1.41-.59l7.78-7.78 2.81-2.81c.8-.78.8-2.07 0-2.86zM5.41 20L4 18.59l7.72-7.72 1.47 1.35L5.41 20z\"/>\n",
       "  </svg>\n",
       "      </button>\n",
       "      \n",
       "  <style>\n",
       "    .colab-df-container {\n",
       "      display:flex;\n",
       "      flex-wrap:wrap;\n",
       "      gap: 12px;\n",
       "    }\n",
       "\n",
       "    .colab-df-convert {\n",
       "      background-color: #E8F0FE;\n",
       "      border: none;\n",
       "      border-radius: 50%;\n",
       "      cursor: pointer;\n",
       "      display: none;\n",
       "      fill: #1967D2;\n",
       "      height: 32px;\n",
       "      padding: 0 0 0 0;\n",
       "      width: 32px;\n",
       "    }\n",
       "\n",
       "    .colab-df-convert:hover {\n",
       "      background-color: #E2EBFA;\n",
       "      box-shadow: 0px 1px 2px rgba(60, 64, 67, 0.3), 0px 1px 3px 1px rgba(60, 64, 67, 0.15);\n",
       "      fill: #174EA6;\n",
       "    }\n",
       "\n",
       "    [theme=dark] .colab-df-convert {\n",
       "      background-color: #3B4455;\n",
       "      fill: #D2E3FC;\n",
       "    }\n",
       "\n",
       "    [theme=dark] .colab-df-convert:hover {\n",
       "      background-color: #434B5C;\n",
       "      box-shadow: 0px 1px 3px 1px rgba(0, 0, 0, 0.15);\n",
       "      filter: drop-shadow(0px 1px 2px rgba(0, 0, 0, 0.3));\n",
       "      fill: #FFFFFF;\n",
       "    }\n",
       "  </style>\n",
       "\n",
       "      <script>\n",
       "        const buttonEl =\n",
       "          document.querySelector('#df-d10ec81d-3231-40ea-b1c5-dc2067ebe4ac button.colab-df-convert');\n",
       "        buttonEl.style.display =\n",
       "          google.colab.kernel.accessAllowed ? 'block' : 'none';\n",
       "\n",
       "        async function convertToInteractive(key) {\n",
       "          const element = document.querySelector('#df-d10ec81d-3231-40ea-b1c5-dc2067ebe4ac');\n",
       "          const dataTable =\n",
       "            await google.colab.kernel.invokeFunction('convertToInteractive',\n",
       "                                                     [key], {});\n",
       "          if (!dataTable) return;\n",
       "\n",
       "          const docLinkHtml = 'Like what you see? Visit the ' +\n",
       "            '<a target=\"_blank\" href=https://colab.research.google.com/notebooks/data_table.ipynb>data table notebook</a>'\n",
       "            + ' to learn more about interactive tables.';\n",
       "          element.innerHTML = '';\n",
       "          dataTable['output_type'] = 'display_data';\n",
       "          await google.colab.output.renderOutput(dataTable, element);\n",
       "          const docLink = document.createElement('div');\n",
       "          docLink.innerHTML = docLinkHtml;\n",
       "          element.appendChild(docLink);\n",
       "        }\n",
       "      </script>\n",
       "    </div>\n",
       "  </div>\n",
       "  "
      ],
      "text/plain": [
       "        Loan Status  Current Loan Amount        Term  Credit Score  \\\n",
       "31808    Fully Paid             99999999  Short Term         750.0   \n",
       "251357  Charged Off                20944   Long Term         690.0   \n",
       "144025   Fully Paid                 7954  Short Term         747.0   \n",
       "\n",
       "       Years in current job Home Ownership  Annual Income             Purpose  \\\n",
       "31808               2 years  Home Mortgage        89762.0               Other   \n",
       "251357              5 years           Rent        65449.0  Debt consolidation   \n",
       "144025            10+ years  Home Mortgage        31328.0   Home improvements   \n",
       "\n",
       "        Monthly Debt  Years of Credit History  Number of Open Accounts  \\\n",
       "31808         682.94                     25.3                        7   \n",
       "251357       1908.91                      9.5                       10   \n",
       "144025        189.02                     19.9                        7   \n",
       "\n",
       "        Number of Credit Problems  Current Credit Balance  \\\n",
       "31808                           0                  146974   \n",
       "251357                          0                      10   \n",
       "144025                          0                       0   \n",
       "\n",
       "        Maximum Open Credit  Bankruptcies  Tax Liens  Credit Utilization Rate  \n",
       "31808                   0.0           0.0        0.0                      1.0  \n",
       "251357                  0.0           0.0        0.0                      1.0  \n",
       "144025                  0.0           0.0        0.0                      NaN  "
      ]
     },
     "execution_count": 22,
     "metadata": {},
     "output_type": "execute_result"
    }
   ],
   "source": [
    "df[df['Maximum Open Credit']==0].sample(3)"
   ]
  },
  {
   "cell_type": "code",
   "execution_count": 23,
   "metadata": {
    "colab": {
     "base_uri": "https://localhost:8080/"
    },
    "executionInfo": {
     "elapsed": 37,
     "status": "ok",
     "timestamp": 1660229330163,
     "user": {
      "displayName": "Zahmet Yılmaz",
      "userId": "12121815919257021566"
     },
     "user_tz": -180
    },
    "id": "dYWM8aUhkeiM",
    "outputId": "41ac0abd-40dd-472b-d89e-d5aabb8647b8"
   },
   "outputs": [
    {
     "data": {
      "text/plain": [
       "Loan Status                  0.000000\n",
       "Current Loan Amount          0.000000\n",
       "Term                         0.000000\n",
       "Credit Score                 0.224575\n",
       "Years in current job         0.000000\n",
       "Home Ownership               0.000000\n",
       "Annual Income                0.224575\n",
       "Purpose                      0.000000\n",
       "Monthly Debt                 0.000000\n",
       "Years of Credit History      0.000000\n",
       "Number of Open Accounts      0.000000\n",
       "Number of Credit Problems    0.000000\n",
       "Current Credit Balance       0.000000\n",
       "Maximum Open Credit          0.000000\n",
       "Bankruptcies                 0.000000\n",
       "Tax Liens                    0.000000\n",
       "Credit Utilization Rate      0.006182\n",
       "dtype: float64"
      ]
     },
     "execution_count": 23,
     "metadata": {},
     "output_type": "execute_result"
    }
   ],
   "source": [
    "df.isnull().mean(axis=0) # Credit Utilization Rate cok az nan var silinir\n",
    "# nan olusma sebebi bazi satirlarin Maximum Open Credit'i veya Current Credit Balance'i 0 , sayi/0=inf,  0/0=nan"
   ]
  },
  {
   "cell_type": "code",
   "execution_count": 24,
   "metadata": {
    "executionInfo": {
     "elapsed": 30,
     "status": "ok",
     "timestamp": 1660229330164,
     "user": {
      "displayName": "Zahmet Yılmaz",
      "userId": "12121815919257021566"
     },
     "user_tz": -180
    },
    "id": "d6wJPVhRlRZ-"
   },
   "outputs": [],
   "source": [
    "df.drop(df[df['Credit Utilization Rate'].isnull()==True].index, inplace=True) # ancak suanda ise inf degerler var"
   ]
  },
  {
   "cell_type": "code",
   "execution_count": 25,
   "metadata": {
    "executionInfo": {
     "elapsed": 579,
     "status": "ok",
     "timestamp": 1660229330714,
     "user": {
      "displayName": "Zahmet Yılmaz",
      "userId": "12121815919257021566"
     },
     "user_tz": -180
    },
    "id": "4yEUGfuklYdC"
   },
   "outputs": [],
   "source": [
    "# inf degerler max limit 0 oldugundan kaynakli\n",
    "# ancak birinin max limiti 0 olmussa demek ki elindeki tum kaynaklari kullanmis bu yuzden credit utilization rate'i 1 e esit olmalidir\n",
    "df.replace([np.inf], 1.0, inplace=True) "
   ]
  },
  {
   "cell_type": "code",
   "execution_count": 26,
   "metadata": {
    "executionInfo": {
     "elapsed": 12,
     "status": "ok",
     "timestamp": 1660229330715,
     "user": {
      "displayName": "Zahmet Yılmaz",
      "userId": "12121815919257021566"
     },
     "user_tz": -180
    },
    "id": "r8ebgkMizI6g"
   },
   "outputs": [],
   "source": [
    "# Bazi Current Loan Amount degerleri 99999999 onlari nan yapip predict edicez\n",
    "df['Current Loan Amount'].replace([99999999],np.nan,inplace=True)"
   ]
  },
  {
   "cell_type": "code",
   "execution_count": 27,
   "metadata": {
    "executionInfo": {
     "elapsed": 12,
     "status": "ok",
     "timestamp": 1660229330716,
     "user": {
      "displayName": "Zahmet Yılmaz",
      "userId": "12121815919257021566"
     },
     "user_tz": -180
    },
    "id": "k86qkQV-xQIJ"
   },
   "outputs": [],
   "source": [
    "# Bazi Credit Score degerlerinde fazladan sifir var onlari 10'a bolucez\n",
    "df['Credit Score'] = df['Credit Score'].apply(lambda x: x/10 if x>800 else x)"
   ]
  },
  {
   "cell_type": "code",
   "execution_count": 28,
   "metadata": {
    "colab": {
     "base_uri": "https://localhost:8080/"
    },
    "executionInfo": {
     "elapsed": 13,
     "status": "ok",
     "timestamp": 1660229330717,
     "user": {
      "displayName": "Zahmet Yılmaz",
      "userId": "12121815919257021566"
     },
     "user_tz": -180
    },
    "id": "aPNGeOz3Nvn-",
    "outputId": "ef8e98f7-e5cc-4e32-e0f2-35321afe918f"
   },
   "outputs": [
    {
     "data": {
      "text/plain": [
       "Credit Score                 1.000000\n",
       "Current Loan Amount          0.226210\n",
       "Credit Utilization Rate      0.222779\n",
       "Monthly Debt                 0.087650\n",
       "Years of Credit History      0.081239\n",
       "Number of Credit Problems    0.061927\n",
       "Bankruptcies                 0.049030\n",
       "Number of Open Accounts      0.042103\n",
       "Tax Liens                    0.025597\n",
       "Current Credit Balance       0.016530\n",
       "Annual Income                0.014931\n",
       "Maximum Open Credit          0.009553\n",
       "Name: Credit Score, dtype: float64"
      ]
     },
     "execution_count": 28,
     "metadata": {},
     "output_type": "execute_result"
    }
   ],
   "source": [
    "abs(df.corr()['Credit Score']).sort_values(ascending=False)"
   ]
  },
  {
   "cell_type": "code",
   "execution_count": 29,
   "metadata": {
    "executionInfo": {
     "elapsed": 14,
     "status": "ok",
     "timestamp": 1660229330720,
     "user": {
      "displayName": "Zahmet Yılmaz",
      "userId": "12121815919257021566"
     },
     "user_tz": -180
    },
    "id": "Ba1YII5qQTCw"
   },
   "outputs": [],
   "source": [
    "# korelasyon degerleri cok kucuk oldugundan median ile doldurulur\n",
    "df['Credit Score'] = df['Credit Score'].fillna(df['Credit Score'].median())"
   ]
  },
  {
   "cell_type": "code",
   "execution_count": 30,
   "metadata": {
    "colab": {
     "base_uri": "https://localhost:8080/",
     "height": 379
    },
    "executionInfo": {
     "elapsed": 15,
     "status": "ok",
     "timestamp": 1660229330722,
     "user": {
      "displayName": "Zahmet Yılmaz",
      "userId": "12121815919257021566"
     },
     "user_tz": -180
    },
    "id": "CNuZbWFSxQ03",
    "outputId": "89e03648-dd3b-42f4-8cca-1c68a3d01d7c"
   },
   "outputs": [
    {
     "data": {
      "text/html": [
       "\n",
       "  <div id=\"df-14cc9379-37f5-4916-b1fd-49b4b958cd10\">\n",
       "    <div class=\"colab-df-container\">\n",
       "      <div>\n",
       "<style scoped>\n",
       "    .dataframe tbody tr th:only-of-type {\n",
       "        vertical-align: middle;\n",
       "    }\n",
       "\n",
       "    .dataframe tbody tr th {\n",
       "        vertical-align: top;\n",
       "    }\n",
       "\n",
       "    .dataframe thead th {\n",
       "        text-align: right;\n",
       "    }\n",
       "</style>\n",
       "<table border=\"1\" class=\"dataframe\">\n",
       "  <thead>\n",
       "    <tr style=\"text-align: right;\">\n",
       "      <th></th>\n",
       "      <th>Current Loan Amount</th>\n",
       "      <th>Credit Score</th>\n",
       "      <th>Annual Income</th>\n",
       "      <th>Monthly Debt</th>\n",
       "      <th>Years of Credit History</th>\n",
       "      <th>Number of Open Accounts</th>\n",
       "      <th>Number of Credit Problems</th>\n",
       "      <th>Current Credit Balance</th>\n",
       "      <th>Maximum Open Credit</th>\n",
       "      <th>Bankruptcies</th>\n",
       "      <th>Tax Liens</th>\n",
       "      <th>Credit Utilization Rate</th>\n",
       "    </tr>\n",
       "  </thead>\n",
       "  <tbody>\n",
       "    <tr>\n",
       "      <th>count</th>\n",
       "      <td>171436.000000</td>\n",
       "      <td>204981.000000</td>\n",
       "      <td>1.589540e+05</td>\n",
       "      <td>204981.000000</td>\n",
       "      <td>204981.000000</td>\n",
       "      <td>204981.000000</td>\n",
       "      <td>204981.000000</td>\n",
       "      <td>2.049810e+05</td>\n",
       "      <td>2.049810e+05</td>\n",
       "      <td>204981.000000</td>\n",
       "      <td>204981.000000</td>\n",
       "      <td>204981.000000</td>\n",
       "    </tr>\n",
       "    <tr>\n",
       "      <th>mean</th>\n",
       "      <td>13965.132563</td>\n",
       "      <td>725.034662</td>\n",
       "      <td>7.407249e+04</td>\n",
       "      <td>975.049808</td>\n",
       "      <td>18.151727</td>\n",
       "      <td>11.161586</td>\n",
       "      <td>0.150951</td>\n",
       "      <td>1.567262e+04</td>\n",
       "      <td>3.727131e+04</td>\n",
       "      <td>0.106683</td>\n",
       "      <td>0.025832</td>\n",
       "      <td>0.337343</td>\n",
       "    </tr>\n",
       "    <tr>\n",
       "      <th>std</th>\n",
       "      <td>8226.824093</td>\n",
       "      <td>23.781920</td>\n",
       "      <td>5.827239e+04</td>\n",
       "      <td>637.440273</td>\n",
       "      <td>6.830456</td>\n",
       "      <td>4.974065</td>\n",
       "      <td>0.451747</td>\n",
       "      <td>1.986417e+04</td>\n",
       "      <td>6.136426e+05</td>\n",
       "      <td>0.331245</td>\n",
       "      <td>0.237829</td>\n",
       "      <td>0.114703</td>\n",
       "    </tr>\n",
       "    <tr>\n",
       "      <th>min</th>\n",
       "      <td>975.000000</td>\n",
       "      <td>585.000000</td>\n",
       "      <td>4.033000e+03</td>\n",
       "      <td>0.000000</td>\n",
       "      <td>3.400000</td>\n",
       "      <td>1.000000</td>\n",
       "      <td>0.000000</td>\n",
       "      <td>1.000000e+00</td>\n",
       "      <td>0.000000e+00</td>\n",
       "      <td>0.000000</td>\n",
       "      <td>0.000000</td>\n",
       "      <td>0.000300</td>\n",
       "    </tr>\n",
       "    <tr>\n",
       "      <th>25%</th>\n",
       "      <td>7835.000000</td>\n",
       "      <td>720.000000</td>\n",
       "      <td>4.557600e+04</td>\n",
       "      <td>541.720000</td>\n",
       "      <td>13.500000</td>\n",
       "      <td>8.000000</td>\n",
       "      <td>0.000000</td>\n",
       "      <td>6.099000e+03</td>\n",
       "      <td>1.321000e+04</td>\n",
       "      <td>0.000000</td>\n",
       "      <td>0.000000</td>\n",
       "      <td>0.270079</td>\n",
       "    </tr>\n",
       "    <tr>\n",
       "      <th>50%</th>\n",
       "      <td>12055.000000</td>\n",
       "      <td>732.000000</td>\n",
       "      <td>6.363500e+04</td>\n",
       "      <td>854.580000</td>\n",
       "      <td>16.900000</td>\n",
       "      <td>10.000000</td>\n",
       "      <td>0.000000</td>\n",
       "      <td>1.122400e+04</td>\n",
       "      <td>2.232900e+04</td>\n",
       "      <td>0.000000</td>\n",
       "      <td>0.000000</td>\n",
       "      <td>0.359014</td>\n",
       "    </tr>\n",
       "    <tr>\n",
       "      <th>75%</th>\n",
       "      <td>19391.000000</td>\n",
       "      <td>740.000000</td>\n",
       "      <td>8.900075e+04</td>\n",
       "      <td>1265.110000</td>\n",
       "      <td>21.600000</td>\n",
       "      <td>14.000000</td>\n",
       "      <td>0.000000</td>\n",
       "      <td>1.954000e+04</td>\n",
       "      <td>3.709400e+04</td>\n",
       "      <td>0.000000</td>\n",
       "      <td>0.000000</td>\n",
       "      <td>0.425271</td>\n",
       "    </tr>\n",
       "    <tr>\n",
       "      <th>max</th>\n",
       "      <td>41000.000000</td>\n",
       "      <td>751.000000</td>\n",
       "      <td>8.713547e+06</td>\n",
       "      <td>22939.120000</td>\n",
       "      <td>66.000000</td>\n",
       "      <td>76.000000</td>\n",
       "      <td>11.000000</td>\n",
       "      <td>1.731412e+06</td>\n",
       "      <td>1.763322e+08</td>\n",
       "      <td>7.000000</td>\n",
       "      <td>11.000000</td>\n",
       "      <td>1.000000</td>\n",
       "    </tr>\n",
       "  </tbody>\n",
       "</table>\n",
       "</div>\n",
       "      <button class=\"colab-df-convert\" onclick=\"convertToInteractive('df-14cc9379-37f5-4916-b1fd-49b4b958cd10')\"\n",
       "              title=\"Convert this dataframe to an interactive table.\"\n",
       "              style=\"display:none;\">\n",
       "        \n",
       "  <svg xmlns=\"http://www.w3.org/2000/svg\" height=\"24px\"viewBox=\"0 0 24 24\"\n",
       "       width=\"24px\">\n",
       "    <path d=\"M0 0h24v24H0V0z\" fill=\"none\"/>\n",
       "    <path d=\"M18.56 5.44l.94 2.06.94-2.06 2.06-.94-2.06-.94-.94-2.06-.94 2.06-2.06.94zm-11 1L8.5 8.5l.94-2.06 2.06-.94-2.06-.94L8.5 2.5l-.94 2.06-2.06.94zm10 10l.94 2.06.94-2.06 2.06-.94-2.06-.94-.94-2.06-.94 2.06-2.06.94z\"/><path d=\"M17.41 7.96l-1.37-1.37c-.4-.4-.92-.59-1.43-.59-.52 0-1.04.2-1.43.59L10.3 9.45l-7.72 7.72c-.78.78-.78 2.05 0 2.83L4 21.41c.39.39.9.59 1.41.59.51 0 1.02-.2 1.41-.59l7.78-7.78 2.81-2.81c.8-.78.8-2.07 0-2.86zM5.41 20L4 18.59l7.72-7.72 1.47 1.35L5.41 20z\"/>\n",
       "  </svg>\n",
       "      </button>\n",
       "      \n",
       "  <style>\n",
       "    .colab-df-container {\n",
       "      display:flex;\n",
       "      flex-wrap:wrap;\n",
       "      gap: 12px;\n",
       "    }\n",
       "\n",
       "    .colab-df-convert {\n",
       "      background-color: #E8F0FE;\n",
       "      border: none;\n",
       "      border-radius: 50%;\n",
       "      cursor: pointer;\n",
       "      display: none;\n",
       "      fill: #1967D2;\n",
       "      height: 32px;\n",
       "      padding: 0 0 0 0;\n",
       "      width: 32px;\n",
       "    }\n",
       "\n",
       "    .colab-df-convert:hover {\n",
       "      background-color: #E2EBFA;\n",
       "      box-shadow: 0px 1px 2px rgba(60, 64, 67, 0.3), 0px 1px 3px 1px rgba(60, 64, 67, 0.15);\n",
       "      fill: #174EA6;\n",
       "    }\n",
       "\n",
       "    [theme=dark] .colab-df-convert {\n",
       "      background-color: #3B4455;\n",
       "      fill: #D2E3FC;\n",
       "    }\n",
       "\n",
       "    [theme=dark] .colab-df-convert:hover {\n",
       "      background-color: #434B5C;\n",
       "      box-shadow: 0px 1px 3px 1px rgba(0, 0, 0, 0.15);\n",
       "      filter: drop-shadow(0px 1px 2px rgba(0, 0, 0, 0.3));\n",
       "      fill: #FFFFFF;\n",
       "    }\n",
       "  </style>\n",
       "\n",
       "      <script>\n",
       "        const buttonEl =\n",
       "          document.querySelector('#df-14cc9379-37f5-4916-b1fd-49b4b958cd10 button.colab-df-convert');\n",
       "        buttonEl.style.display =\n",
       "          google.colab.kernel.accessAllowed ? 'block' : 'none';\n",
       "\n",
       "        async function convertToInteractive(key) {\n",
       "          const element = document.querySelector('#df-14cc9379-37f5-4916-b1fd-49b4b958cd10');\n",
       "          const dataTable =\n",
       "            await google.colab.kernel.invokeFunction('convertToInteractive',\n",
       "                                                     [key], {});\n",
       "          if (!dataTable) return;\n",
       "\n",
       "          const docLinkHtml = 'Like what you see? Visit the ' +\n",
       "            '<a target=\"_blank\" href=https://colab.research.google.com/notebooks/data_table.ipynb>data table notebook</a>'\n",
       "            + ' to learn more about interactive tables.';\n",
       "          element.innerHTML = '';\n",
       "          dataTable['output_type'] = 'display_data';\n",
       "          await google.colab.output.renderOutput(dataTable, element);\n",
       "          const docLink = document.createElement('div');\n",
       "          docLink.innerHTML = docLinkHtml;\n",
       "          element.appendChild(docLink);\n",
       "        }\n",
       "      </script>\n",
       "    </div>\n",
       "  </div>\n",
       "  "
      ],
      "text/plain": [
       "       Current Loan Amount   Credit Score  Annual Income   Monthly Debt  \\\n",
       "count        171436.000000  204981.000000   1.589540e+05  204981.000000   \n",
       "mean          13965.132563     725.034662   7.407249e+04     975.049808   \n",
       "std            8226.824093      23.781920   5.827239e+04     637.440273   \n",
       "min             975.000000     585.000000   4.033000e+03       0.000000   \n",
       "25%            7835.000000     720.000000   4.557600e+04     541.720000   \n",
       "50%           12055.000000     732.000000   6.363500e+04     854.580000   \n",
       "75%           19391.000000     740.000000   8.900075e+04    1265.110000   \n",
       "max           41000.000000     751.000000   8.713547e+06   22939.120000   \n",
       "\n",
       "       Years of Credit History  Number of Open Accounts  \\\n",
       "count            204981.000000            204981.000000   \n",
       "mean                 18.151727                11.161586   \n",
       "std                   6.830456                 4.974065   \n",
       "min                   3.400000                 1.000000   \n",
       "25%                  13.500000                 8.000000   \n",
       "50%                  16.900000                10.000000   \n",
       "75%                  21.600000                14.000000   \n",
       "max                  66.000000                76.000000   \n",
       "\n",
       "       Number of Credit Problems  Current Credit Balance  Maximum Open Credit  \\\n",
       "count              204981.000000            2.049810e+05         2.049810e+05   \n",
       "mean                    0.150951            1.567262e+04         3.727131e+04   \n",
       "std                     0.451747            1.986417e+04         6.136426e+05   \n",
       "min                     0.000000            1.000000e+00         0.000000e+00   \n",
       "25%                     0.000000            6.099000e+03         1.321000e+04   \n",
       "50%                     0.000000            1.122400e+04         2.232900e+04   \n",
       "75%                     0.000000            1.954000e+04         3.709400e+04   \n",
       "max                    11.000000            1.731412e+06         1.763322e+08   \n",
       "\n",
       "        Bankruptcies      Tax Liens  Credit Utilization Rate  \n",
       "count  204981.000000  204981.000000            204981.000000  \n",
       "mean        0.106683       0.025832                 0.337343  \n",
       "std         0.331245       0.237829                 0.114703  \n",
       "min         0.000000       0.000000                 0.000300  \n",
       "25%         0.000000       0.000000                 0.270079  \n",
       "50%         0.000000       0.000000                 0.359014  \n",
       "75%         0.000000       0.000000                 0.425271  \n",
       "max         7.000000      11.000000                 1.000000  "
      ]
     },
     "execution_count": 30,
     "metadata": {},
     "output_type": "execute_result"
    }
   ],
   "source": [
    "df.describe()"
   ]
  },
  {
   "cell_type": "markdown",
   "metadata": {
    "id": "mojWS2ptuVnw"
   },
   "source": [
    "## Data Visualization"
   ]
  },
  {
   "cell_type": "code",
   "execution_count": 31,
   "metadata": {
    "colab": {
     "base_uri": "https://localhost:8080/",
     "height": 385
    },
    "executionInfo": {
     "elapsed": 1877,
     "status": "ok",
     "timestamp": 1660229332585,
     "user": {
      "displayName": "Zahmet Yılmaz",
      "userId": "12121815919257021566"
     },
     "user_tz": -180
    },
    "id": "4C_EqDb-2VG7",
    "outputId": "4cc77d80-8531-40c3-b8fc-c65916ebe249"
   },
   "outputs": [
    {
     "data": {
      "image/png": "[encoded data removed]",
      "text/plain": [
       "<Figure size 1440x432 with 12 Axes>"
      ]
     },
     "metadata": {
      "needs_background": "light"
     },
     "output_type": "display_data"
    }
   ],
   "source": [
    "df.plot(kind=\"box\", subplots=True, layout=(2,6), figsize=(20,6));"
   ]
  },
  {
   "cell_type": "markdown",
   "metadata": {
    "id": "CCtNNU8itPPx"
   },
   "source": [
    "## Using Regression for Missing Values"
   ]
  },
  {
   "cell_type": "code",
   "execution_count": 32,
   "metadata": {
    "colab": {
     "base_uri": "https://localhost:8080/"
    },
    "executionInfo": {
     "elapsed": 17,
     "status": "ok",
     "timestamp": 1660229332586,
     "user": {
      "displayName": "Zahmet Yılmaz",
      "userId": "12121815919257021566"
     },
     "user_tz": -180
    },
    "id": "Yn8NeZG3mdF5",
    "outputId": "e3b1c748-4a27-445b-9de0-7380326fb074"
   },
   "outputs": [
    {
     "data": {
      "text/plain": [
       "Loan Status                  0.000000\n",
       "Current Loan Amount          0.163649\n",
       "Term                         0.000000\n",
       "Credit Score                 0.000000\n",
       "Years in current job         0.000000\n",
       "Home Ownership               0.000000\n",
       "Annual Income                0.224543\n",
       "Purpose                      0.000000\n",
       "Monthly Debt                 0.000000\n",
       "Years of Credit History      0.000000\n",
       "Number of Open Accounts      0.000000\n",
       "Number of Credit Problems    0.000000\n",
       "Current Credit Balance       0.000000\n",
       "Maximum Open Credit          0.000000\n",
       "Bankruptcies                 0.000000\n",
       "Tax Liens                    0.000000\n",
       "Credit Utilization Rate      0.000000\n",
       "dtype: float64"
      ]
     },
     "execution_count": 32,
     "metadata": {},
     "output_type": "execute_result"
    }
   ],
   "source": [
    "df.isnull().mean(axis=0)"
   ]
  },
  {
   "cell_type": "markdown",
   "metadata": {
    "id": "XYeFqsKK3mM_"
   },
   "source": [
    "### Regression for Current Loan Amount"
   ]
  },
  {
   "cell_type": "code",
   "execution_count": 33,
   "metadata": {
    "colab": {
     "base_uri": "https://localhost:8080/"
    },
    "executionInfo": {
     "elapsed": 595,
     "status": "ok",
     "timestamp": 1660229333171,
     "user": {
      "displayName": "Zahmet Yılmaz",
      "userId": "12121815919257021566"
     },
     "user_tz": -180
    },
    "id": "d4xWN3DD-tYl",
    "outputId": "ad7c0551-5df4-456c-ed86-f8d02b7c36a9"
   },
   "outputs": [
    {
     "data": {
      "text/plain": [
       "Current Loan Amount          1.000000\n",
       "Monthly Debt                 0.424215\n",
       "Annual Income                0.343024\n",
       "Current Credit Balance       0.323157\n",
       "Credit Score                 0.192333\n",
       "Number of Open Accounts      0.191937\n",
       "Years of Credit History      0.167700\n",
       "Credit Utilization Rate      0.102181\n",
       "Bankruptcies                 0.094588\n",
       "Number of Credit Problems    0.074209\n",
       "Maximum Open Credit          0.041698\n",
       "Tax Liens                    0.010016\n",
       "Name: Current Loan Amount, dtype: float64"
      ]
     },
     "execution_count": 33,
     "metadata": {},
     "output_type": "execute_result"
    }
   ],
   "source": [
    "abs(df.corr()['Current Loan Amount']).sort_values(ascending=False)"
   ]
  },
  {
   "cell_type": "code",
   "execution_count": 34,
   "metadata": {
    "executionInfo": {
     "elapsed": 13,
     "status": "ok",
     "timestamp": 1660229333172,
     "user": {
      "displayName": "Zahmet Yılmaz",
      "userId": "12121815919257021566"
     },
     "user_tz": -180
    },
    "id": "bDXpeLk1Ac5M"
   },
   "outputs": [],
   "source": [
    "# dummy variable kullanabilmek icin drop kullanmak zorundayiz # 0.2 den kucuk olan sutunlari attik\n",
    "df1 = df.drop(columns=['Credit Score','Number of Open Accounts', 'Years of Credit History', 'Credit Utilization Rate', 'Bankruptcies', 'Number of Credit Problems', 'Maximum Open Credit', 'Tax Liens'])\n",
    "df1_dummies = pd.get_dummies(df1, drop_first=True) #df1 e get dummies uyguladik\n",
    "dolu = df1_dummies[df1_dummies['Current Loan Amount'].notnull()]\n",
    "bos = df1_dummies[df1_dummies['Current Loan Amount'].isnull()]"
   ]
  },
  {
   "cell_type": "code",
   "execution_count": 35,
   "metadata": {
    "executionInfo": {
     "elapsed": 13,
     "status": "ok",
     "timestamp": 1660229333173,
     "user": {
      "displayName": "Zahmet Yılmaz",
      "userId": "12121815919257021566"
     },
     "user_tz": -180
    },
    "id": "RCINsuMHFsnK"
   },
   "outputs": [],
   "source": [
    "dolu.drop( dolu[dolu['Annual Income'].isnull()].index, inplace=True) # Annual income ve credit score u nan olan satirlari attik"
   ]
  },
  {
   "cell_type": "code",
   "execution_count": 36,
   "metadata": {
    "colab": {
     "base_uri": "https://localhost:8080/"
    },
    "executionInfo": {
     "elapsed": 13,
     "status": "ok",
     "timestamp": 1660229333173,
     "user": {
      "displayName": "Zahmet Yılmaz",
      "userId": "12121815919257021566"
     },
     "user_tz": -180
    },
    "id": "NdJK9S7OMsA5",
    "outputId": "5843fca6-8cb0-49a0-fb04-47edf83792dd"
   },
   "outputs": [
    {
     "data": {
      "text/plain": [
       "((125409, 27), (33545, 27))"
      ]
     },
     "execution_count": 36,
     "metadata": {},
     "output_type": "execute_result"
    }
   ],
   "source": [
    "dolu.shape, bos.shape"
   ]
  },
  {
   "cell_type": "code",
   "execution_count": 37,
   "metadata": {
    "executionInfo": {
     "elapsed": 18993,
     "status": "ok",
     "timestamp": 1660229352157,
     "user": {
      "displayName": "Zahmet Yılmaz",
      "userId": "12121815919257021566"
     },
     "user_tz": -180
    },
    "id": "y_lc5VD2K5Li"
   },
   "outputs": [],
   "source": [
    "gb=GradientBoostingRegressor()\n",
    "pred=gb.fit(dolu.drop(columns=['Current Loan Amount']), dolu['Current Loan Amount']).predict(bos.drop(columns=['Current Loan Amount']))"
   ]
  },
  {
   "cell_type": "code",
   "execution_count": 38,
   "metadata": {
    "executionInfo": {
     "elapsed": 31,
     "status": "ok",
     "timestamp": 1660229352159,
     "user": {
      "displayName": "Zahmet Yılmaz",
      "userId": "12121815919257021566"
     },
     "user_tz": -180
    },
    "id": "zc8i6AYU4Pc0"
   },
   "outputs": [],
   "source": [
    "df.loc[df[df['Current Loan Amount'].isnull()].index, 'Current Loan Amount'] = pred # bos yerleri pred ile doldur"
   ]
  },
  {
   "cell_type": "code",
   "execution_count": 39,
   "metadata": {
    "colab": {
     "base_uri": "https://localhost:8080/"
    },
    "executionInfo": {
     "elapsed": 30,
     "status": "ok",
     "timestamp": 1660229352159,
     "user": {
      "displayName": "Zahmet Yılmaz",
      "userId": "12121815919257021566"
     },
     "user_tz": -180
    },
    "id": "NkIHe9WvNsOr",
    "outputId": "a81f33f0-2caf-4279-99be-5ebbc7695974"
   },
   "outputs": [
    {
     "data": {
      "text/plain": [
       "Loan Status                  0.000000\n",
       "Current Loan Amount          0.000000\n",
       "Term                         0.000000\n",
       "Credit Score                 0.000000\n",
       "Years in current job         0.000000\n",
       "Home Ownership               0.000000\n",
       "Annual Income                0.224543\n",
       "Purpose                      0.000000\n",
       "Monthly Debt                 0.000000\n",
       "Years of Credit History      0.000000\n",
       "Number of Open Accounts      0.000000\n",
       "Number of Credit Problems    0.000000\n",
       "Current Credit Balance       0.000000\n",
       "Maximum Open Credit          0.000000\n",
       "Bankruptcies                 0.000000\n",
       "Tax Liens                    0.000000\n",
       "Credit Utilization Rate      0.000000\n",
       "dtype: float64"
      ]
     },
     "execution_count": 39,
     "metadata": {},
     "output_type": "execute_result"
    }
   ],
   "source": [
    "df.isnull().mean(axis=0)"
   ]
  },
  {
   "cell_type": "markdown",
   "metadata": {
    "id": "eFoaz-gK4OLh"
   },
   "source": [
    "### Regression for Annual Income"
   ]
  },
  {
   "cell_type": "code",
   "execution_count": 40,
   "metadata": {
    "colab": {
     "base_uri": "https://localhost:8080/"
    },
    "executionInfo": {
     "elapsed": 32,
     "status": "ok",
     "timestamp": 1660229352162,
     "user": {
      "displayName": "Zahmet Yılmaz",
      "userId": "12121815919257021566"
     },
     "user_tz": -180
    },
    "id": "Umriq2E74UwI",
    "outputId": "f28873a2-31b3-47a5-f5fd-9f4f60d6d1ea"
   },
   "outputs": [
    {
     "data": {
      "text/plain": [
       "Annual Income                1.000000\n",
       "Monthly Debt                 0.463668\n",
       "Current Loan Amount          0.360863\n",
       "Current Credit Balance       0.306858\n",
       "Years of Credit History      0.173516\n",
       "Number of Open Accounts      0.138387\n",
       "Bankruptcies                 0.041341\n",
       "Tax Liens                    0.037284\n",
       "Maximum Open Credit          0.030341\n",
       "Credit Utilization Rate      0.027978\n",
       "Credit Score                 0.014931\n",
       "Number of Credit Problems    0.011670\n",
       "Name: Annual Income, dtype: float64"
      ]
     },
     "execution_count": 40,
     "metadata": {},
     "output_type": "execute_result"
    }
   ],
   "source": [
    "abs(df.corr()['Annual Income']).sort_values(ascending=False)"
   ]
  },
  {
   "cell_type": "code",
   "execution_count": 41,
   "metadata": {
    "colab": {
     "base_uri": "https://localhost:8080/"
    },
    "executionInfo": {
     "elapsed": 27,
     "status": "ok",
     "timestamp": 1660229352163,
     "user": {
      "displayName": "Zahmet Yılmaz",
      "userId": "12121815919257021566"
     },
     "user_tz": -180
    },
    "id": "McaMaxzDRBXO",
    "outputId": "671bbb5c-fe75-44a7-eb6b-4d460c320399"
   },
   "outputs": [
    {
     "data": {
      "text/plain": [
       "array(['Loan Status', 'Term', 'Years in current job', 'Home Ownership',\n",
       "       'Purpose'], dtype=object)"
      ]
     },
     "execution_count": 41,
     "metadata": {},
     "output_type": "execute_result"
    }
   ],
   "source": [
    "df.select_dtypes(include=object).columns.values"
   ]
  },
  {
   "cell_type": "code",
   "execution_count": 42,
   "metadata": {
    "executionInfo": {
     "elapsed": 25,
     "status": "ok",
     "timestamp": 1660229352164,
     "user": {
      "displayName": "Zahmet Yılmaz",
      "userId": "12121815919257021566"
     },
     "user_tz": -180
    },
    "id": "myWqcsRQREuy"
   },
   "outputs": [],
   "source": [
    "df3 = df[['Annual Income', 'Monthly Debt', 'Current Loan Amount', 'Current Credit Balance', 'Loan Status', 'Term', 'Years in current job', 'Home Ownership',\n",
    "       'Purpose']]"
   ]
  },
  {
   "cell_type": "code",
   "execution_count": 43,
   "metadata": {
    "executionInfo": {
     "elapsed": 25,
     "status": "ok",
     "timestamp": 1660229352164,
     "user": {
      "displayName": "Zahmet Yılmaz",
      "userId": "12121815919257021566"
     },
     "user_tz": -180
    },
    "id": "em9V2xCeREoB"
   },
   "outputs": [],
   "source": [
    "df3_dummies = pd.get_dummies(df, drop_first=True)\n",
    "dolu = df3_dummies[df3_dummies['Annual Income'].notnull()]\n",
    "bos = df3_dummies[df3_dummies['Annual Income'].isnull()]"
   ]
  },
  {
   "cell_type": "code",
   "execution_count": 44,
   "metadata": {
    "executionInfo": {
     "elapsed": 45369,
     "status": "ok",
     "timestamp": 1660229397509,
     "user": {
      "displayName": "Zahmet Yılmaz",
      "userId": "12121815919257021566"
     },
     "user_tz": -180
    },
    "id": "anN_mkLeREec"
   },
   "outputs": [],
   "source": [
    "gb=GradientBoostingRegressor()\n",
    "pred=gb.fit(dolu.drop(columns=['Annual Income']), dolu['Annual Income']).predict(bos.drop(columns=['Annual Income']))"
   ]
  },
  {
   "cell_type": "code",
   "execution_count": 45,
   "metadata": {
    "executionInfo": {
     "elapsed": 24,
     "status": "ok",
     "timestamp": 1660229397511,
     "user": {
      "displayName": "Zahmet Yılmaz",
      "userId": "12121815919257021566"
     },
     "user_tz": -180
    },
    "id": "DD4GwFb_RtDl"
   },
   "outputs": [],
   "source": [
    "df.loc[df[df['Annual Income'].isnull()].index, 'Annual Income'] = pred # bos yerleri pred ile doldur"
   ]
  },
  {
   "cell_type": "code",
   "execution_count": 46,
   "metadata": {
    "colab": {
     "base_uri": "https://localhost:8080/"
    },
    "executionInfo": {
     "elapsed": 24,
     "status": "ok",
     "timestamp": 1660229397512,
     "user": {
      "displayName": "Zahmet Yılmaz",
      "userId": "12121815919257021566"
     },
     "user_tz": -180
    },
    "id": "ra2iK7giRx0Q",
    "outputId": "b00aac43-d31f-412b-e4c0-c04053ff4d1f"
   },
   "outputs": [
    {
     "data": {
      "text/plain": [
       "Loan Status                  0.0\n",
       "Current Loan Amount          0.0\n",
       "Term                         0.0\n",
       "Credit Score                 0.0\n",
       "Years in current job         0.0\n",
       "Home Ownership               0.0\n",
       "Annual Income                0.0\n",
       "Purpose                      0.0\n",
       "Monthly Debt                 0.0\n",
       "Years of Credit History      0.0\n",
       "Number of Open Accounts      0.0\n",
       "Number of Credit Problems    0.0\n",
       "Current Credit Balance       0.0\n",
       "Maximum Open Credit          0.0\n",
       "Bankruptcies                 0.0\n",
       "Tax Liens                    0.0\n",
       "Credit Utilization Rate      0.0\n",
       "dtype: float64"
      ]
     },
     "execution_count": 46,
     "metadata": {},
     "output_type": "execute_result"
    }
   ],
   "source": [
    "df.isnull().mean(axis=0)"
   ]
  },
  {
   "cell_type": "markdown",
   "metadata": {
    "id": "Yb-J8FXd6lNS"
   },
   "source": [
    "## Classification"
   ]
  },
  {
   "cell_type": "code",
   "execution_count": 52,
   "metadata": {
    "executionInfo": {
     "elapsed": 1023,
     "status": "ok",
     "timestamp": 1660229698156,
     "user": {
      "displayName": "Zahmet Yılmaz",
      "userId": "12121815919257021566"
     },
     "user_tz": -180
    },
    "id": "W_rr-pQkZfPH"
   },
   "outputs": [],
   "source": [
    "df['Loan Status'] = df['Loan Status'].replace(['Charged Off','Fully Paid'],[0,1])"
   ]
  },
  {
   "cell_type": "code",
   "execution_count": 53,
   "metadata": {
    "colab": {
     "base_uri": "https://localhost:8080/"
    },
    "executionInfo": {
     "elapsed": 7,
     "status": "ok",
     "timestamp": 1660229700000,
     "user": {
      "displayName": "Zahmet Yılmaz",
      "userId": "12121815919257021566"
     },
     "user_tz": -180
    },
    "id": "Q3mBin7yY_Vu",
    "outputId": "524ec0ec-6446-4e3d-ddab-e5ffb06341d0"
   },
   "outputs": [
    {
     "data": {
      "text/plain": [
       "Index(['Term', 'Years in current job', 'Home Ownership', 'Purpose'], dtype='object')"
      ]
     },
     "execution_count": 53,
     "metadata": {},
     "output_type": "execute_result"
    }
   ],
   "source": [
    "df.select_dtypes(include=object).columns"
   ]
  },
  {
   "cell_type": "code",
   "execution_count": 54,
   "metadata": {
    "colab": {
     "base_uri": "https://localhost:8080/",
     "height": 394
    },
    "executionInfo": {
     "elapsed": 1204428,
     "status": "ok",
     "timestamp": 1660230913243,
     "user": {
      "displayName": "Zahmet Yılmaz",
      "userId": "12121815919257021566"
     },
     "user_tz": -180
    },
    "id": "Js8ZbKbuSEu1",
    "outputId": "a416c45e-e697-4d3b-ca28-748f4cd308cd"
   },
   "outputs": [
    {
     "data": {
      "text/html": [
       "\n",
       "  <div id=\"df-feb0c04b-a26c-4361-bf66-0b4dc48a0eb3\">\n",
       "    <div class=\"colab-df-container\">\n",
       "      <div>\n",
       "<style scoped>\n",
       "    .dataframe tbody tr th:only-of-type {\n",
       "        vertical-align: middle;\n",
       "    }\n",
       "\n",
       "    .dataframe tbody tr th {\n",
       "        vertical-align: top;\n",
       "    }\n",
       "\n",
       "    .dataframe thead th {\n",
       "        text-align: right;\n",
       "    }\n",
       "</style>\n",
       "<table border=\"1\" class=\"dataframe\">\n",
       "  <thead>\n",
       "    <tr style=\"text-align: right;\">\n",
       "      <th></th>\n",
       "      <th>AccuracyScore</th>\n",
       "      <th>PrecisionScore</th>\n",
       "      <th>RecallScore</th>\n",
       "      <th>f1_Score</th>\n",
       "    </tr>\n",
       "  </thead>\n",
       "  <tbody>\n",
       "    <tr>\n",
       "      <th>XGBClassifier</th>\n",
       "      <td>0.821572</td>\n",
       "      <td>0.825472</td>\n",
       "      <td>0.992085</td>\n",
       "      <td>0.901142</td>\n",
       "    </tr>\n",
       "    <tr>\n",
       "      <th>GradientBoosting</th>\n",
       "      <td>0.821767</td>\n",
       "      <td>0.826282</td>\n",
       "      <td>0.990894</td>\n",
       "      <td>0.901133</td>\n",
       "    </tr>\n",
       "    <tr>\n",
       "      <th>LogisticReg</th>\n",
       "      <td>0.819743</td>\n",
       "      <td>0.819754</td>\n",
       "      <td>0.999970</td>\n",
       "      <td>0.900938</td>\n",
       "    </tr>\n",
       "    <tr>\n",
       "      <th>Bernoulli</th>\n",
       "      <td>0.819719</td>\n",
       "      <td>0.819719</td>\n",
       "      <td>1.000000</td>\n",
       "      <td>0.900929</td>\n",
       "    </tr>\n",
       "    <tr>\n",
       "      <th>SVC</th>\n",
       "      <td>0.819719</td>\n",
       "      <td>0.819719</td>\n",
       "      <td>1.000000</td>\n",
       "      <td>0.900929</td>\n",
       "    </tr>\n",
       "    <tr>\n",
       "      <th>RandomForest</th>\n",
       "      <td>0.821133</td>\n",
       "      <td>0.829459</td>\n",
       "      <td>0.984140</td>\n",
       "      <td>0.900203</td>\n",
       "    </tr>\n",
       "    <tr>\n",
       "      <th>AdaBoost</th>\n",
       "      <td>0.819719</td>\n",
       "      <td>0.824773</td>\n",
       "      <td>0.990508</td>\n",
       "      <td>0.900074</td>\n",
       "    </tr>\n",
       "    <tr>\n",
       "      <th>KNeighbors</th>\n",
       "      <td>0.798132</td>\n",
       "      <td>0.830230</td>\n",
       "      <td>0.947480</td>\n",
       "      <td>0.884988</td>\n",
       "    </tr>\n",
       "    <tr>\n",
       "      <th>Gaussian</th>\n",
       "      <td>0.781033</td>\n",
       "      <td>0.841642</td>\n",
       "      <td>0.902726</td>\n",
       "      <td>0.871115</td>\n",
       "    </tr>\n",
       "    <tr>\n",
       "      <th>DecisionTree</th>\n",
       "      <td>0.739030</td>\n",
       "      <td>0.845891</td>\n",
       "      <td>0.833482</td>\n",
       "      <td>0.839641</td>\n",
       "    </tr>\n",
       "    <tr>\n",
       "      <th>MultinominalNB</th>\n",
       "      <td>0.409127</td>\n",
       "      <td>0.864831</td>\n",
       "      <td>0.330893</td>\n",
       "      <td>0.478650</td>\n",
       "    </tr>\n",
       "  </tbody>\n",
       "</table>\n",
       "</div>\n",
       "      <button class=\"colab-df-convert\" onclick=\"convertToInteractive('df-feb0c04b-a26c-4361-bf66-0b4dc48a0eb3')\"\n",
       "              title=\"Convert this dataframe to an interactive table.\"\n",
       "              style=\"display:none;\">\n",
       "        \n",
       "  <svg xmlns=\"http://www.w3.org/2000/svg\" height=\"24px\"viewBox=\"0 0 24 24\"\n",
       "       width=\"24px\">\n",
       "    <path d=\"M0 0h24v24H0V0z\" fill=\"none\"/>\n",
       "    <path d=\"M18.56 5.44l.94 2.06.94-2.06 2.06-.94-2.06-.94-.94-2.06-.94 2.06-2.06.94zm-11 1L8.5 8.5l.94-2.06 2.06-.94-2.06-.94L8.5 2.5l-.94 2.06-2.06.94zm10 10l.94 2.06.94-2.06 2.06-.94-2.06-.94-.94-2.06-.94 2.06-2.06.94z\"/><path d=\"M17.41 7.96l-1.37-1.37c-.4-.4-.92-.59-1.43-.59-.52 0-1.04.2-1.43.59L10.3 9.45l-7.72 7.72c-.78.78-.78 2.05 0 2.83L4 21.41c.39.39.9.59 1.41.59.51 0 1.02-.2 1.41-.59l7.78-7.78 2.81-2.81c.8-.78.8-2.07 0-2.86zM5.41 20L4 18.59l7.72-7.72 1.47 1.35L5.41 20z\"/>\n",
       "  </svg>\n",
       "      </button>\n",
       "      \n",
       "  <style>\n",
       "    .colab-df-container {\n",
       "      display:flex;\n",
       "      flex-wrap:wrap;\n",
       "      gap: 12px;\n",
       "    }\n",
       "\n",
       "    .colab-df-convert {\n",
       "      background-color: #E8F0FE;\n",
       "      border: none;\n",
       "      border-radius: 50%;\n",
       "      cursor: pointer;\n",
       "      display: none;\n",
       "      fill: #1967D2;\n",
       "      height: 32px;\n",
       "      padding: 0 0 0 0;\n",
       "      width: 32px;\n",
       "    }\n",
       "\n",
       "    .colab-df-convert:hover {\n",
       "      background-color: #E2EBFA;\n",
       "      box-shadow: 0px 1px 2px rgba(60, 64, 67, 0.3), 0px 1px 3px 1px rgba(60, 64, 67, 0.15);\n",
       "      fill: #174EA6;\n",
       "    }\n",
       "\n",
       "    [theme=dark] .colab-df-convert {\n",
       "      background-color: #3B4455;\n",
       "      fill: #D2E3FC;\n",
       "    }\n",
       "\n",
       "    [theme=dark] .colab-df-convert:hover {\n",
       "      background-color: #434B5C;\n",
       "      box-shadow: 0px 1px 3px 1px rgba(0, 0, 0, 0.15);\n",
       "      filter: drop-shadow(0px 1px 2px rgba(0, 0, 0, 0.3));\n",
       "      fill: #FFFFFF;\n",
       "    }\n",
       "  </style>\n",
       "\n",
       "      <script>\n",
       "        const buttonEl =\n",
       "          document.querySelector('#df-feb0c04b-a26c-4361-bf66-0b4dc48a0eb3 button.colab-df-convert');\n",
       "        buttonEl.style.display =\n",
       "          google.colab.kernel.accessAllowed ? 'block' : 'none';\n",
       "\n",
       "        async function convertToInteractive(key) {\n",
       "          const element = document.querySelector('#df-feb0c04b-a26c-4361-bf66-0b4dc48a0eb3');\n",
       "          const dataTable =\n",
       "            await google.colab.kernel.invokeFunction('convertToInteractive',\n",
       "                                                     [key], {});\n",
       "          if (!dataTable) return;\n",
       "\n",
       "          const docLinkHtml = 'Like what you see? Visit the ' +\n",
       "            '<a target=\"_blank\" href=https://colab.research.google.com/notebooks/data_table.ipynb>data table notebook</a>'\n",
       "            + ' to learn more about interactive tables.';\n",
       "          element.innerHTML = '';\n",
       "          dataTable['output_type'] = 'display_data';\n",
       "          await google.colab.output.renderOutput(dataTable, element);\n",
       "          const docLink = document.createElement('div');\n",
       "          docLink.innerHTML = docLinkHtml;\n",
       "          element.appendChild(docLink);\n",
       "        }\n",
       "      </script>\n",
       "    </div>\n",
       "  </div>\n",
       "  "
      ],
      "text/plain": [
       "                  AccuracyScore  PrecisionScore  RecallScore  f1_Score\n",
       "XGBClassifier          0.821572        0.825472     0.992085  0.901142\n",
       "GradientBoosting       0.821767        0.826282     0.990894  0.901133\n",
       "LogisticReg            0.819743        0.819754     0.999970  0.900938\n",
       "Bernoulli              0.819719        0.819719     1.000000  0.900929\n",
       "SVC                    0.819719        0.819719     1.000000  0.900929\n",
       "RandomForest           0.821133        0.829459     0.984140  0.900203\n",
       "AdaBoost               0.819719        0.824773     0.990508  0.900074\n",
       "KNeighbors             0.798132        0.830230     0.947480  0.884988\n",
       "Gaussian               0.781033        0.841642     0.902726  0.871115\n",
       "DecisionTree           0.739030        0.845891     0.833482  0.839641\n",
       "MultinominalNB         0.409127        0.864831     0.330893  0.478650"
      ]
     },
     "execution_count": 54,
     "metadata": {},
     "output_type": "execute_result"
    }
   ],
   "source": [
    "# islem cok uzun surdugunden sadece sayisal sutunlar alindi\n",
    "classification_(df.drop(columns=['Loan Status', 'Term', 'Years in current job', 'Home Ownership','Purpose']), df['Loan Status'])"
   ]
  }
 ],
 "metadata": {
  "accelerator": "GPU",
  "colab": {
   "authorship_tag": "ABX9TyMD9MbASHKEFeLRehHP1Qgl",
   "collapsed_sections": [],
   "name": "Loan Prediction.ipynb",
   "provenance": []
  },
  "gpuClass": "standard",
  "kernelspec": {
   "display_name": "Python 3 (ipykernel)",
   "language": "python",
   "name": "python3"
  },
  "language_info": {
   "codemirror_mode": {
    "name": "ipython",
    "version": 3
   },
   "file_extension": ".py",
   "mimetype": "text/x-python",
   "name": "python",
   "nbconvert_exporter": "python",
   "pygments_lexer": "ipython3",
   "version": "3.9.12"
  },
  "varInspector": {
   "cols": {
    "lenName": 16,
    "lenType": 16,
    "lenVar": 40
   },
   "kernels_config": {
    "python": {
     "delete_cmd_postfix": "",
     "delete_cmd_prefix": "del ",
     "library": "var_list.py",
     "varRefreshCmd": "print(var_dic_list())"
    },
    "r": {
     "delete_cmd_postfix": ") ",
     "delete_cmd_prefix": "rm(",
     "library": "var_list.r",
     "varRefreshCmd": "cat(var_dic_list()) "
    }
   },
   "types_to_exclude": [
    "module",
    "function",
    "builtin_function_or_method",
    "instance",
    "_Feature"
   ],
   "window_display": false
  }
 },
 "nbformat": 4,
 "nbformat_minor": 1
}
